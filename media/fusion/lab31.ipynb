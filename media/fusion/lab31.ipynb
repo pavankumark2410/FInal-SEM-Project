{
 "cells": [
  {
   "cell_type": "code",
   "execution_count": 6,
   "id": "43f678d4-eaa2-4807-94ed-2d3313f4a662",
   "metadata": {},
   "outputs": [
    {
     "name": "stderr",
     "output_type": "stream",
     "text": [
      "ibmqfactory.load_account:WARNING:2022-11-10 04:01:21,735: Credentials are already in use. The existing account in the session will be replaced.\n"
     ]
    }
   ],
   "source": [
    "import numpy as np\n",
    "\n",
    "# Importing standard Qiskit libraries\n",
    "from qiskit import QuantumCircuit, transpile, Aer, IBMQ\n",
    "from qiskit.tools.jupyter import *\n",
    "from qiskit.visualization import *\n",
    "from ibm_quantum_widgets import *\n",
    "from qiskit.providers.aer import QasmSimulator\n",
    "\n",
    "# Loading your IBM Quantum account(s)\n",
    "provider = IBMQ.load_account()"
   ]
  },
  {
   "cell_type": "code",
   "execution_count": 7,
   "id": "577ea2a5-d27e-46cd-9a63-c4a8aa4d4bc9",
   "metadata": {},
   "outputs": [],
   "source": [
    "# import math lib\n",
    "from math import pi\n",
    "\n",
    "# import Qiskit\n",
    "from qiskit import Aer, IBMQ, execute\n",
    "from qiskit import QuantumCircuit, ClassicalRegister, QuantumRegister\n",
    "\n",
    "# import basic plot tools\n",
    "from qiskit.tools.visualization import plot_histogram\n",
    "\n",
    "# To use local qasm simulator\n",
    "backend = Aer.get_backend('qasm_simulator')\n",
    "\n"
   ]
  },
  {
   "cell_type": "code",
   "execution_count": 8,
   "id": "847a1824-e4f1-42bb-8d58-5c5a764acb34",
   "metadata": {},
   "outputs": [],
   "source": [
    "theta_list = [0.01, 0.02, 0.03, 0.04, 0.05, 1.31, 1.32, 1.33, 1.34, 1.35]"
   ]
  },
  {
   "cell_type": "code",
   "execution_count": 9,
   "id": "63f2e00c-4df9-4a15-8eaa-1269bc925fda",
   "metadata": {},
   "outputs": [
    {
     "name": "stderr",
     "output_type": "stream",
     "text": [
      "/tmp/ipykernel_77/2946515254.py:20: DeprecationWarning: The QuantumCircuit.u3 method is deprecated as of 0.16.0. It will be removed no earlier than 3 months after the release date. You should use QuantumCircuit.u instead, which acts identically. Alternatively, you can decompose u3 in terms of QuantumCircuit.p and QuantumCircuit.sx: u3(ϴ,φ,λ) = p(φ+π) sx p(ϴ+π) sx p(λ) (2 pulses on hardware).\n",
      "  qc.u3(theta_1, pi, pi, qr[1])\n",
      "/tmp/ipykernel_77/2946515254.py:21: DeprecationWarning: The QuantumCircuit.u3 method is deprecated as of 0.16.0. It will be removed no earlier than 3 months after the release date. You should use QuantumCircuit.u instead, which acts identically. Alternatively, you can decompose u3 in terms of QuantumCircuit.p and QuantumCircuit.sx: u3(ϴ,φ,λ) = p(φ+π) sx p(ϴ+π) sx p(λ) (2 pulses on hardware).\n",
      "  qc.u3(theta_2, pi, pi, qr[4])\n"
     ]
    },
    {
     "name": "stdout",
     "output_type": "stream",
     "text": [
      "Result(backend_name='qasm_simulator', backend_version='0.11.1', qobj_id='e098ef79-b376-4226-b05c-d361826ddbaf', job_id='887a9ce5-95fb-4565-9ad5-36d6fd1b28a9', success=True, results=[ExperimentResult(shots=1024, success=True, meas_level=2, data=ExperimentResultData(counts={'0x0': 1024}), header=QobjExperimentHeader(clbit_labels=[['cr', 0], ['cr', 1], ['cr', 2], ['cr', 3], ['cr', 4]], creg_sizes=[['cr', 5]], global_phase=1.3322676295501878e-15, memory_slots=5, metadata={}, n_qubits=5, name='k_means', qreg_sizes=[['qr', 5]], qubit_labels=[['qr', 0], ['qr', 1], ['qr', 2], ['qr', 3], ['qr', 4]]), status=DONE, seed_simulator=1041785754, metadata={'noise': 'ideal', 'batched_shots_optimization': False, 'measure_sampling': True, 'parallel_shots': 1, 'remapped_qubits': True, 'active_input_qubits': [1, 2, 4], 'num_clbits': 5, 'parallel_state_update': 8, 'sample_measure_time': 0.000228614, 'num_qubits': 3, 'device': 'CPU', 'input_qubit_map': [[4, 2], [2, 1], [1, 0]], 'method': 'statevector', 'fusion': {'applied': False, 'max_fused_qubits': 5, 'threshold': 14, 'enabled': True}}, time_taken=0.001500189)], date=2022-11-10T04:01:24.361860, status=COMPLETED, header=QobjHeader(backend_name='qasm_simulator', backend_version='0.11.1'), metadata={'time_taken': 0.001780956, 'time_taken_execute': 0.001566238, 'mpi_rank': 0, 'num_mpi_processes': 1, 'max_gpu_memory_mb': 0, 'max_memory_mb': 31960, 'parallel_experiments': 1, 'time_taken_load_qobj': 0.000206174, 'num_processes_per_experiments': 1, 'omp_enabled': True}, time_taken=0.0020046234130859375)\n",
      "theta_1:0.01\n",
      "theta_2:0.02\n",
      "Result(backend_name='qasm_simulator', backend_version='0.11.1', qobj_id='db5a3e65-0d37-47a3-82d6-579b55c41b2e', job_id='fe897791-5c96-41db-aa3f-3f805ff8562e', success=True, results=[ExperimentResult(shots=1024, success=True, meas_level=2, data=ExperimentResultData(counts={'0x0': 1024}), header=QobjExperimentHeader(clbit_labels=[['cr', 0], ['cr', 1], ['cr', 2], ['cr', 3], ['cr', 4]], creg_sizes=[['cr', 5]], global_phase=2.6645352591003757e-15, memory_slots=5, metadata={}, n_qubits=5, name='k_means', qreg_sizes=[['qr', 5]], qubit_labels=[['qr', 0], ['qr', 1], ['qr', 2], ['qr', 3], ['qr', 4]]), status=DONE, seed_simulator=2692373305, metadata={'noise': 'ideal', 'batched_shots_optimization': False, 'measure_sampling': False, 'parallel_shots': 8, 'remapped_qubits': True, 'active_input_qubits': [1, 2, 4], 'num_clbits': 5, 'parallel_state_update': 1, 'num_qubits': 3, 'device': 'CPU', 'input_qubit_map': [[4, 2], [2, 1], [1, 0]], 'method': 'statevector', 'fusion': {'applied': False, 'max_fused_qubits': 5, 'threshold': 14, 'enabled': True}}, time_taken=0.016175486)], date=2022-11-10T04:01:24.578895, status=COMPLETED, header=QobjHeader(backend_name='qasm_simulator', backend_version='0.11.1'), metadata={'time_taken': 0.016487483, 'time_taken_execute': 0.01624073, 'mpi_rank': 0, 'num_mpi_processes': 1, 'max_gpu_memory_mb': 0, 'max_memory_mb': 31960, 'parallel_experiments': 1, 'time_taken_load_qobj': 0.000229647, 'num_processes_per_experiments': 1, 'omp_enabled': True}, time_taken=0.017022371292114258)\n",
      "theta_1:0.01\n",
      "theta_2:0.03\n",
      "Result(backend_name='qasm_simulator', backend_version='0.11.1', qobj_id='6e583c96-de18-4c04-a2ed-3b63a32d4847', job_id='7c8044d0-586b-4e3a-812a-11f4054b7b94', success=True, results=[ExperimentResult(shots=1024, success=True, meas_level=2, data=ExperimentResultData(counts={'0x0': 1024}), header=QobjExperimentHeader(clbit_labels=[['cr', 0], ['cr', 1], ['cr', 2], ['cr', 3], ['cr', 4]], creg_sizes=[['cr', 5]], global_phase=3.9968028886505635e-15, memory_slots=5, metadata={}, n_qubits=5, name='k_means', qreg_sizes=[['qr', 5]], qubit_labels=[['qr', 0], ['qr', 1], ['qr', 2], ['qr', 3], ['qr', 4]]), status=DONE, seed_simulator=1979271209, metadata={'noise': 'ideal', 'batched_shots_optimization': False, 'measure_sampling': False, 'parallel_shots': 8, 'remapped_qubits': True, 'active_input_qubits': [1, 2, 4], 'num_clbits': 5, 'parallel_state_update': 1, 'num_qubits': 3, 'device': 'CPU', 'input_qubit_map': [[4, 2], [2, 1], [1, 0]], 'method': 'statevector', 'fusion': {'applied': False, 'max_fused_qubits': 5, 'threshold': 14, 'enabled': True}}, time_taken=0.032050975)], date=2022-11-10T04:01:24.655126, status=COMPLETED, header=QobjHeader(backend_name='qasm_simulator', backend_version='0.11.1'), metadata={'time_taken': 0.032346003, 'time_taken_execute': 0.032114342, 'mpi_rank': 0, 'num_mpi_processes': 1, 'max_gpu_memory_mb': 0, 'max_memory_mb': 31960, 'parallel_experiments': 1, 'time_taken_load_qobj': 0.000221843, 'num_processes_per_experiments': 1, 'omp_enabled': True}, time_taken=0.03254866600036621)\n",
      "theta_1:0.01\n",
      "theta_2:0.04\n",
      "Result(backend_name='qasm_simulator', backend_version='0.11.1', qobj_id='46dac670-2c22-46fa-839a-d724604ac92f', job_id='4da892a0-f4d9-4adb-a0b1-f74d924ab7b7', success=True, results=[ExperimentResult(shots=1024, success=True, meas_level=2, data=ExperimentResultData(counts={'0x0': 1024}), header=QobjExperimentHeader(clbit_labels=[['cr', 0], ['cr', 1], ['cr', 2], ['cr', 3], ['cr', 4]], creg_sizes=[['cr', 5]], global_phase=5.329070518200751e-15, memory_slots=5, metadata={}, n_qubits=5, name='k_means', qreg_sizes=[['qr', 5]], qubit_labels=[['qr', 0], ['qr', 1], ['qr', 2], ['qr', 3], ['qr', 4]]), status=DONE, seed_simulator=3773679143, metadata={'noise': 'ideal', 'batched_shots_optimization': False, 'measure_sampling': False, 'parallel_shots': 8, 'remapped_qubits': True, 'active_input_qubits': [1, 2, 4], 'num_clbits': 5, 'parallel_state_update': 1, 'num_qubits': 3, 'device': 'CPU', 'input_qubit_map': [[4, 2], [2, 1], [1, 0]], 'method': 'statevector', 'fusion': {'applied': False, 'max_fused_qubits': 5, 'threshold': 14, 'enabled': True}}, time_taken=0.033523973)], date=2022-11-10T04:01:24.738676, status=COMPLETED, header=QobjHeader(backend_name='qasm_simulator', backend_version='0.11.1'), metadata={'time_taken': 0.033830967, 'time_taken_execute': 0.033590184, 'mpi_rank': 0, 'num_mpi_processes': 1, 'max_gpu_memory_mb': 0, 'max_memory_mb': 31960, 'parallel_experiments': 1, 'time_taken_load_qobj': 0.00023053, 'num_processes_per_experiments': 1, 'omp_enabled': True}, time_taken=0.03402113914489746)\n",
      "theta_1:0.01\n",
      "theta_2:0.05\n",
      "Result(backend_name='qasm_simulator', backend_version='0.11.1', qobj_id='a8f2ae13-886a-498c-8ae7-624f994bb817', job_id='0c4cfe59-7b95-48be-a47a-8bc3fabd458d', success=True, results=[ExperimentResult(shots=1024, success=True, meas_level=2, data=ExperimentResultData(counts={'0x4': 201, '0x0': 823}), header=QobjExperimentHeader(clbit_labels=[['cr', 0], ['cr', 1], ['cr', 2], ['cr', 3], ['cr', 4]], creg_sizes=[['cr', 5]], global_phase=5.995204332975845e-15, memory_slots=5, metadata={}, n_qubits=5, name='k_means', qreg_sizes=[['qr', 5]], qubit_labels=[['qr', 0], ['qr', 1], ['qr', 2], ['qr', 3], ['qr', 4]]), status=DONE, seed_simulator=272518105, metadata={'noise': 'ideal', 'batched_shots_optimization': False, 'measure_sampling': False, 'parallel_shots': 8, 'remapped_qubits': True, 'active_input_qubits': [1, 2, 4], 'num_clbits': 5, 'parallel_state_update': 1, 'num_qubits': 3, 'device': 'CPU', 'input_qubit_map': [[4, 2], [2, 1], [1, 0]], 'method': 'statevector', 'fusion': {'applied': False, 'max_fused_qubits': 5, 'threshold': 14, 'enabled': True}}, time_taken=0.046399248)], date=2022-11-10T04:01:24.846782, status=COMPLETED, header=QobjHeader(backend_name='qasm_simulator', backend_version='0.11.1'), metadata={'time_taken': 0.046736595, 'time_taken_execute': 0.046466173, 'mpi_rank': 0, 'num_mpi_processes': 1, 'max_gpu_memory_mb': 0, 'max_memory_mb': 31960, 'parallel_experiments': 1, 'time_taken_load_qobj': 0.000259406, 'num_processes_per_experiments': 1, 'omp_enabled': True}, time_taken=0.04698991775512695)\n",
      "theta_1:0.01\n",
      "theta_2:1.31\n",
      "Result(backend_name='qasm_simulator', backend_version='0.11.1', qobj_id='af6e9202-a0a2-4f5b-9397-75a1c3e7b007', job_id='45c44419-c27f-443a-a6fa-7d926a6f203e', success=True, results=[ExperimentResult(shots=1024, success=True, meas_level=2, data=ExperimentResultData(counts={'0x4': 194, '0x0': 830}), header=QobjExperimentHeader(clbit_labels=[['cr', 0], ['cr', 1], ['cr', 2], ['cr', 3], ['cr', 4]], creg_sizes=[['cr', 5]], global_phase=6.661338147750939e-15, memory_slots=5, metadata={}, n_qubits=5, name='k_means', qreg_sizes=[['qr', 5]], qubit_labels=[['qr', 0], ['qr', 1], ['qr', 2], ['qr', 3], ['qr', 4]]), status=DONE, seed_simulator=1624871512, metadata={'noise': 'ideal', 'batched_shots_optimization': False, 'measure_sampling': False, 'parallel_shots': 8, 'remapped_qubits': True, 'active_input_qubits': [1, 2, 4], 'num_clbits': 5, 'parallel_state_update': 1, 'num_qubits': 3, 'device': 'CPU', 'input_qubit_map': [[4, 2], [2, 1], [1, 0]], 'method': 'statevector', 'fusion': {'applied': False, 'max_fused_qubits': 5, 'threshold': 14, 'enabled': True}}, time_taken=0.056040056)], date=2022-11-10T04:01:24.972953, status=COMPLETED, header=QobjHeader(backend_name='qasm_simulator', backend_version='0.11.1'), metadata={'time_taken': 0.056430264, 'time_taken_execute': 0.056108796, 'mpi_rank': 0, 'num_mpi_processes': 1, 'max_gpu_memory_mb': 0, 'max_memory_mb': 31960, 'parallel_experiments': 1, 'time_taken_load_qobj': 0.000311056, 'num_processes_per_experiments': 1, 'omp_enabled': True}, time_taken=0.05671381950378418)\n",
      "theta_1:0.01\n",
      "theta_2:1.32\n",
      "Result(backend_name='qasm_simulator', backend_version='0.11.1', qobj_id='91542a15-9017-4b2a-a7b7-03ec9fe50e65', job_id='cb28fd5d-7328-48c7-ba2a-9ad98f14afe9', success=True, results=[ExperimentResult(shots=1024, success=True, meas_level=2, data=ExperimentResultData(counts={'0x4': 190, '0x0': 834}), header=QobjExperimentHeader(clbit_labels=[['cr', 0], ['cr', 1], ['cr', 2], ['cr', 3], ['cr', 4]], creg_sizes=[['cr', 5]], global_phase=7.327471962526033e-15, memory_slots=5, metadata={}, n_qubits=5, name='k_means', qreg_sizes=[['qr', 5]], qubit_labels=[['qr', 0], ['qr', 1], ['qr', 2], ['qr', 3], ['qr', 4]]), status=DONE, seed_simulator=362868501, metadata={'noise': 'ideal', 'batched_shots_optimization': False, 'measure_sampling': False, 'parallel_shots': 8, 'remapped_qubits': True, 'active_input_qubits': [1, 2, 4], 'num_clbits': 5, 'parallel_state_update': 1, 'num_qubits': 3, 'device': 'CPU', 'input_qubit_map': [[4, 2], [2, 1], [1, 0]], 'method': 'statevector', 'fusion': {'applied': False, 'max_fused_qubits': 5, 'threshold': 14, 'enabled': True}}, time_taken=0.061491729)], date=2022-11-10T04:01:25.113780, status=COMPLETED, header=QobjHeader(backend_name='qasm_simulator', backend_version='0.11.1'), metadata={'time_taken': 0.061901835, 'time_taken_execute': 0.06156251, 'mpi_rank': 0, 'num_mpi_processes': 1, 'max_gpu_memory_mb': 0, 'max_memory_mb': 31960, 'parallel_experiments': 1, 'time_taken_load_qobj': 0.000327022, 'num_processes_per_experiments': 1, 'omp_enabled': True}, time_taken=0.062189340591430664)\n",
      "theta_1:0.01\n",
      "theta_2:1.33\n",
      "Result(backend_name='qasm_simulator', backend_version='0.11.1', qobj_id='386f8d88-e1c7-4e4d-a930-3127cfc52d88', job_id='74ef29ec-d6cd-4723-b376-5223f30599da', success=True, results=[ExperimentResult(shots=1024, success=True, meas_level=2, data=ExperimentResultData(counts={'0x0': 804, '0x4': 220}), header=QobjExperimentHeader(clbit_labels=[['cr', 0], ['cr', 1], ['cr', 2], ['cr', 3], ['cr', 4]], creg_sizes=[['cr', 5]], global_phase=7.993605777301127e-15, memory_slots=5, metadata={}, n_qubits=5, name='k_means', qreg_sizes=[['qr', 5]], qubit_labels=[['qr', 0], ['qr', 1], ['qr', 2], ['qr', 3], ['qr', 4]]), status=DONE, seed_simulator=3202170277, metadata={'noise': 'ideal', 'batched_shots_optimization': False, 'measure_sampling': False, 'parallel_shots': 8, 'remapped_qubits': True, 'active_input_qubits': [1, 2, 4], 'num_clbits': 5, 'parallel_state_update': 1, 'num_qubits': 3, 'device': 'CPU', 'input_qubit_map': [[4, 2], [2, 1], [1, 0]], 'method': 'statevector', 'fusion': {'applied': False, 'max_fused_qubits': 5, 'threshold': 14, 'enabled': True}}, time_taken=0.057832643)], date=2022-11-10T04:01:25.252408, status=COMPLETED, header=QobjHeader(backend_name='qasm_simulator', backend_version='0.11.1'), metadata={'time_taken': 0.058267363, 'time_taken_execute': 0.057902425, 'mpi_rank': 0, 'num_mpi_processes': 1, 'max_gpu_memory_mb': 0, 'max_memory_mb': 31960, 'parallel_experiments': 1, 'time_taken_load_qobj': 0.000354313, 'num_processes_per_experiments': 1, 'omp_enabled': True}, time_taken=0.058887481689453125)\n",
      "theta_1:0.01\n",
      "theta_2:1.34\n",
      "Result(backend_name='qasm_simulator', backend_version='0.11.1', qobj_id='f23dcedf-fed5-4f7f-824c-93e20260f2d4', job_id='cc24b7bf-2906-4c02-9663-00ea24cb0770', success=True, results=[ExperimentResult(shots=1024, success=True, meas_level=2, data=ExperimentResultData(counts={'0x4': 203, '0x0': 821}), header=QobjExperimentHeader(clbit_labels=[['cr', 0], ['cr', 1], ['cr', 2], ['cr', 3], ['cr', 4]], creg_sizes=[['cr', 5]], global_phase=8.659739592076221e-15, memory_slots=5, metadata={}, n_qubits=5, name='k_means', qreg_sizes=[['qr', 5]], qubit_labels=[['qr', 0], ['qr', 1], ['qr', 2], ['qr', 3], ['qr', 4]]), status=DONE, seed_simulator=3130087842, metadata={'noise': 'ideal', 'batched_shots_optimization': False, 'measure_sampling': False, 'parallel_shots': 8, 'remapped_qubits': True, 'active_input_qubits': [1, 2, 4], 'num_clbits': 5, 'parallel_state_update': 1, 'num_qubits': 3, 'device': 'CPU', 'input_qubit_map': [[4, 2], [2, 1], [1, 0]], 'method': 'statevector', 'fusion': {'applied': False, 'max_fused_qubits': 5, 'threshold': 14, 'enabled': True}}, time_taken=0.065774055)], date=2022-11-10T04:01:25.404664, status=COMPLETED, header=QobjHeader(backend_name='qasm_simulator', backend_version='0.11.1'), metadata={'time_taken': 0.066215875, 'time_taken_execute': 0.065839576, 'mpi_rank': 0, 'num_mpi_processes': 1, 'max_gpu_memory_mb': 0, 'max_memory_mb': 31960, 'parallel_experiments': 1, 'time_taken_load_qobj': 0.000366798, 'num_processes_per_experiments': 1, 'omp_enabled': True}, time_taken=0.06650519371032715)\n",
      "theta_1:0.01\n",
      "theta_2:1.35\n",
      "Result(backend_name='qasm_simulator', backend_version='0.11.1', qobj_id='5e0789ce-f21f-4dc4-b771-8f7d5dcf2a23', job_id='06de0bf2-18dd-434e-93b4-967f4958fc05', success=True, results=[ExperimentResult(shots=1024, success=True, meas_level=2, data=ExperimentResultData(counts={'0x0': 1024}), header=QobjExperimentHeader(clbit_labels=[['cr', 0], ['cr', 1], ['cr', 2], ['cr', 3], ['cr', 4]], creg_sizes=[['cr', 5]], global_phase=9.992007221626409e-15, memory_slots=5, metadata={}, n_qubits=5, name='k_means', qreg_sizes=[['qr', 5]], qubit_labels=[['qr', 0], ['qr', 1], ['qr', 2], ['qr', 3], ['qr', 4]]), status=DONE, seed_simulator=1434516156, metadata={'noise': 'ideal', 'batched_shots_optimization': False, 'measure_sampling': False, 'parallel_shots': 8, 'remapped_qubits': True, 'active_input_qubits': [1, 2, 4], 'num_clbits': 5, 'parallel_state_update': 1, 'num_qubits': 3, 'device': 'CPU', 'input_qubit_map': [[4, 2], [2, 1], [1, 0]], 'method': 'statevector', 'fusion': {'applied': False, 'max_fused_qubits': 5, 'threshold': 14, 'enabled': True}}, time_taken=0.069835759)], date=2022-11-10T04:01:25.571947, status=COMPLETED, header=QobjHeader(backend_name='qasm_simulator', backend_version='0.11.1'), metadata={'time_taken': 0.070298554, 'time_taken_execute': 0.069907128, 'mpi_rank': 0, 'num_mpi_processes': 1, 'max_gpu_memory_mb': 0, 'max_memory_mb': 31960, 'parallel_experiments': 1, 'time_taken_load_qobj': 0.000380822, 'num_processes_per_experiments': 1, 'omp_enabled': True}, time_taken=0.07072138786315918)\n",
      "theta_1:0.02\n",
      "theta_2:0.03\n",
      "Result(backend_name='qasm_simulator', backend_version='0.11.1', qobj_id='ba4b2030-c1f5-4387-990a-973226855d78', job_id='53764697-d373-41db-a100-0765d7e45454', success=True, results=[ExperimentResult(shots=1024, success=True, meas_level=2, data=ExperimentResultData(counts={'0x0': 1024}), header=QobjExperimentHeader(clbit_labels=[['cr', 0], ['cr', 1], ['cr', 2], ['cr', 3], ['cr', 4]], creg_sizes=[['cr', 5]], global_phase=1.1324274851176597e-14, memory_slots=5, metadata={}, n_qubits=5, name='k_means', qreg_sizes=[['qr', 5]], qubit_labels=[['qr', 0], ['qr', 1], ['qr', 2], ['qr', 3], ['qr', 4]]), status=DONE, seed_simulator=2157629308, metadata={'noise': 'ideal', 'batched_shots_optimization': False, 'measure_sampling': False, 'parallel_shots': 8, 'remapped_qubits': True, 'active_input_qubits': [1, 2, 4], 'num_clbits': 5, 'parallel_state_update': 1, 'num_qubits': 3, 'device': 'CPU', 'input_qubit_map': [[4, 2], [2, 1], [1, 0]], 'method': 'statevector', 'fusion': {'applied': False, 'max_fused_qubits': 5, 'threshold': 14, 'enabled': True}}, time_taken=0.077450434)], date=2022-11-10T04:01:25.747928, status=COMPLETED, header=QobjHeader(backend_name='qasm_simulator', backend_version='0.11.1'), metadata={'time_taken': 0.077917801, 'time_taken_execute': 0.077517832, 'mpi_rank': 0, 'num_mpi_processes': 1, 'max_gpu_memory_mb': 0, 'max_memory_mb': 31960, 'parallel_experiments': 1, 'time_taken_load_qobj': 0.000389433, 'num_processes_per_experiments': 1, 'omp_enabled': True}, time_taken=0.07813644409179688)\n",
      "theta_1:0.02\n",
      "theta_2:0.04\n",
      "Result(backend_name='qasm_simulator', backend_version='0.11.1', qobj_id='1a355372-4eaf-49a6-b5ec-78b1404311fb', job_id='e192d6d1-7f36-4bef-9f3c-8efbf96025a5', success=True, results=[ExperimentResult(shots=1024, success=True, meas_level=2, data=ExperimentResultData(counts={'0x0': 1024}), header=QobjExperimentHeader(clbit_labels=[['cr', 0], ['cr', 1], ['cr', 2], ['cr', 3], ['cr', 4]], creg_sizes=[['cr', 5]], global_phase=1.2656542480726785e-14, memory_slots=5, metadata={}, n_qubits=5, name='k_means', qreg_sizes=[['qr', 5]], qubit_labels=[['qr', 0], ['qr', 1], ['qr', 2], ['qr', 3], ['qr', 4]]), status=DONE, seed_simulator=21576558, metadata={'noise': 'ideal', 'batched_shots_optimization': False, 'measure_sampling': False, 'parallel_shots': 8, 'remapped_qubits': True, 'active_input_qubits': [1, 2, 4], 'num_clbits': 5, 'parallel_state_update': 1, 'num_qubits': 3, 'device': 'CPU', 'input_qubit_map': [[4, 2], [2, 1], [1, 0]], 'method': 'statevector', 'fusion': {'applied': False, 'max_fused_qubits': 5, 'threshold': 14, 'enabled': True}}, time_taken=0.101534909)], date=2022-11-10T04:01:25.973810, status=COMPLETED, header=QobjHeader(backend_name='qasm_simulator', backend_version='0.11.1'), metadata={'time_taken': 0.102033241, 'time_taken_execute': 0.10160504, 'mpi_rank': 0, 'num_mpi_processes': 1, 'max_gpu_memory_mb': 0, 'max_memory_mb': 31960, 'parallel_experiments': 1, 'time_taken_load_qobj': 0.000417693, 'num_processes_per_experiments': 1, 'omp_enabled': True}, time_taken=0.10244894027709961)\n",
      "theta_1:0.02\n",
      "theta_2:0.05\n",
      "Result(backend_name='qasm_simulator', backend_version='0.11.1', qobj_id='799c2aee-f817-4271-bdb2-b2708a393230', job_id='610a8281-2e07-4dac-8741-133a26f08708', success=True, results=[ExperimentResult(shots=1024, success=True, meas_level=2, data=ExperimentResultData(counts={'0x4': 197, '0x0': 827}), header=QobjExperimentHeader(clbit_labels=[['cr', 0], ['cr', 1], ['cr', 2], ['cr', 3], ['cr', 4]], creg_sizes=[['cr', 5]], global_phase=1.3322676295501878e-14, memory_slots=5, metadata={}, n_qubits=5, name='k_means', qreg_sizes=[['qr', 5]], qubit_labels=[['qr', 0], ['qr', 1], ['qr', 2], ['qr', 3], ['qr', 4]]), status=DONE, seed_simulator=388966462, metadata={'noise': 'ideal', 'batched_shots_optimization': False, 'measure_sampling': False, 'parallel_shots': 8, 'remapped_qubits': True, 'active_input_qubits': [1, 2, 4], 'num_clbits': 5, 'parallel_state_update': 1, 'num_qubits': 3, 'device': 'CPU', 'input_qubit_map': [[4, 2], [2, 1], [1, 0]], 'method': 'statevector', 'fusion': {'applied': False, 'max_fused_qubits': 5, 'threshold': 14, 'enabled': True}}, time_taken=0.131562059)], date=2022-11-10T04:01:26.224490, status=COMPLETED, header=QobjHeader(backend_name='qasm_simulator', backend_version='0.11.1'), metadata={'time_taken': 0.132078785, 'time_taken_execute': 0.131630871, 'mpi_rank': 0, 'num_mpi_processes': 1, 'max_gpu_memory_mb': 0, 'max_memory_mb': 31960, 'parallel_experiments': 1, 'time_taken_load_qobj': 0.000437627, 'num_processes_per_experiments': 1, 'omp_enabled': True}, time_taken=0.13289427757263184)\n",
      "theta_1:0.02\n",
      "theta_2:1.31\n",
      "Result(backend_name='qasm_simulator', backend_version='0.11.1', qobj_id='2e2c068f-e207-4342-b51d-052b2f4aea15', job_id='ff7531aa-504c-4e79-9e90-4f2afb3b50e1', success=True, results=[ExperimentResult(shots=1024, success=True, meas_level=2, data=ExperimentResultData(counts={'0x4': 215, '0x0': 809}), header=QobjExperimentHeader(clbit_labels=[['cr', 0], ['cr', 1], ['cr', 2], ['cr', 3], ['cr', 4]], creg_sizes=[['cr', 5]], global_phase=1.3988810110276972e-14, memory_slots=5, metadata={}, n_qubits=5, name='k_means', qreg_sizes=[['qr', 5]], qubit_labels=[['qr', 0], ['qr', 1], ['qr', 2], ['qr', 3], ['qr', 4]]), status=DONE, seed_simulator=1143165828, metadata={'noise': 'ideal', 'batched_shots_optimization': False, 'measure_sampling': False, 'parallel_shots': 8, 'remapped_qubits': True, 'active_input_qubits': [1, 2, 4], 'num_clbits': 5, 'parallel_state_update': 1, 'num_qubits': 3, 'device': 'CPU', 'input_qubit_map': [[4, 2], [2, 1], [1, 0]], 'method': 'statevector', 'fusion': {'applied': False, 'max_fused_qubits': 5, 'threshold': 14, 'enabled': True}}, time_taken=0.133880826)], date=2022-11-10T04:01:26.484765, status=COMPLETED, header=QobjHeader(backend_name='qasm_simulator', backend_version='0.11.1'), metadata={'time_taken': 0.134421996, 'time_taken_execute': 0.133950659, 'mpi_rank': 0, 'num_mpi_processes': 1, 'max_gpu_memory_mb': 0, 'max_memory_mb': 31960, 'parallel_experiments': 1, 'time_taken_load_qobj': 0.000459832, 'num_processes_per_experiments': 1, 'omp_enabled': True}, time_taken=0.13620209693908691)\n",
      "theta_1:0.02\n",
      "theta_2:1.32\n",
      "Result(backend_name='qasm_simulator', backend_version='0.11.1', qobj_id='7dbee7f0-d604-4f76-877a-dbc69462f0d0', job_id='f7ee9d0f-7671-49c1-a8a6-32c4252c6a0f', success=True, results=[ExperimentResult(shots=1024, success=True, meas_level=2, data=ExperimentResultData(counts={'0x4': 199, '0x0': 825}), header=QobjExperimentHeader(clbit_labels=[['cr', 0], ['cr', 1], ['cr', 2], ['cr', 3], ['cr', 4]], creg_sizes=[['cr', 5]], global_phase=1.4654943925052066e-14, memory_slots=5, metadata={}, n_qubits=5, name='k_means', qreg_sizes=[['qr', 5]], qubit_labels=[['qr', 0], ['qr', 1], ['qr', 2], ['qr', 3], ['qr', 4]]), status=DONE, seed_simulator=3360185548, metadata={'noise': 'ideal', 'batched_shots_optimization': False, 'measure_sampling': False, 'parallel_shots': 8, 'remapped_qubits': True, 'active_input_qubits': [1, 2, 4], 'num_clbits': 5, 'parallel_state_update': 1, 'num_qubits': 3, 'device': 'CPU', 'input_qubit_map': [[4, 2], [2, 1], [1, 0]], 'method': 'statevector', 'fusion': {'applied': False, 'max_fused_qubits': 5, 'threshold': 14, 'enabled': True}}, time_taken=0.162668854)], date=2022-11-10T04:01:26.777690, status=COMPLETED, header=QobjHeader(backend_name='qasm_simulator', backend_version='0.11.1'), metadata={'time_taken': 0.163396106, 'time_taken_execute': 0.162738005, 'mpi_rank': 0, 'num_mpi_processes': 1, 'max_gpu_memory_mb': 0, 'max_memory_mb': 31960, 'parallel_experiments': 1, 'time_taken_load_qobj': 0.00064716, 'num_processes_per_experiments': 1, 'omp_enabled': True}, time_taken=0.16632843017578125)\n",
      "theta_1:0.02\n",
      "theta_2:1.33\n",
      "Result(backend_name='qasm_simulator', backend_version='0.11.1', qobj_id='f30166c0-e0c3-4aee-a587-09050a1adefe', job_id='30fee0db-0242-464f-90f3-7665f8bd3afa', success=True, results=[ExperimentResult(shots=1024, success=True, meas_level=2, data=ExperimentResultData(counts={'0x4': 205, '0x0': 819}), header=QobjExperimentHeader(clbit_labels=[['cr', 0], ['cr', 1], ['cr', 2], ['cr', 3], ['cr', 4]], creg_sizes=[['cr', 5]], global_phase=1.532107773982716e-14, memory_slots=5, metadata={}, n_qubits=5, name='k_means', qreg_sizes=[['qr', 5]], qubit_labels=[['qr', 0], ['qr', 1], ['qr', 2], ['qr', 3], ['qr', 4]]), status=DONE, seed_simulator=1250808206, metadata={'noise': 'ideal', 'batched_shots_optimization': False, 'measure_sampling': False, 'parallel_shots': 8, 'remapped_qubits': True, 'active_input_qubits': [1, 2, 4], 'num_clbits': 5, 'parallel_state_update': 1, 'num_qubits': 3, 'device': 'CPU', 'input_qubit_map': [[4, 2], [2, 1], [1, 0]], 'method': 'statevector', 'fusion': {'applied': False, 'max_fused_qubits': 5, 'threshold': 14, 'enabled': True}}, time_taken=0.161341872)], date=2022-11-10T04:01:27.081527, status=COMPLETED, header=QobjHeader(backend_name='qasm_simulator', backend_version='0.11.1'), metadata={'time_taken': 0.16202034, 'time_taken_execute': 0.161409076, 'mpi_rank': 0, 'num_mpi_processes': 1, 'max_gpu_memory_mb': 0, 'max_memory_mb': 31960, 'parallel_experiments': 1, 'time_taken_load_qobj': 0.000601209, 'num_processes_per_experiments': 1, 'omp_enabled': True}, time_taken=0.1649305820465088)\n",
      "theta_1:0.02\n",
      "theta_2:1.34\n",
      "Result(backend_name='qasm_simulator', backend_version='0.11.1', qobj_id='bba8ab19-692b-4f3f-95ed-b85095f61afc', job_id='828fb925-cdde-4f59-8609-5e4158325b59', success=True, results=[ExperimentResult(shots=1024, success=True, meas_level=2, data=ExperimentResultData(counts={'0x0': 825, '0x4': 199}), header=QobjExperimentHeader(clbit_labels=[['cr', 0], ['cr', 1], ['cr', 2], ['cr', 3], ['cr', 4]], creg_sizes=[['cr', 5]], global_phase=1.5987211554602254e-14, memory_slots=5, metadata={}, n_qubits=5, name='k_means', qreg_sizes=[['qr', 5]], qubit_labels=[['qr', 0], ['qr', 1], ['qr', 2], ['qr', 3], ['qr', 4]]), status=DONE, seed_simulator=2453529027, metadata={'noise': 'ideal', 'batched_shots_optimization': False, 'measure_sampling': False, 'parallel_shots': 8, 'remapped_qubits': True, 'active_input_qubits': [1, 2, 4], 'num_clbits': 5, 'parallel_state_update': 1, 'num_qubits': 3, 'device': 'CPU', 'input_qubit_map': [[4, 2], [2, 1], [1, 0]], 'method': 'statevector', 'fusion': {'applied': False, 'max_fused_qubits': 5, 'threshold': 14, 'enabled': True}}, time_taken=0.1624537)], date=2022-11-10T04:01:27.386646, status=COMPLETED, header=QobjHeader(backend_name='qasm_simulator', backend_version='0.11.1'), metadata={'time_taken': 0.163170913, 'time_taken_execute': 0.162521756, 'mpi_rank': 0, 'num_mpi_processes': 1, 'max_gpu_memory_mb': 0, 'max_memory_mb': 31960, 'parallel_experiments': 1, 'time_taken_load_qobj': 0.000639022, 'num_processes_per_experiments': 1, 'omp_enabled': True}, time_taken=0.16480278968811035)\n",
      "theta_1:0.02\n",
      "theta_2:1.35\n",
      "Result(backend_name='qasm_simulator', backend_version='0.11.1', qobj_id='60b41d72-0272-4f84-af78-3efd1d6b9690', job_id='18df0ac9-0b1f-4c3f-ac61-d10cec2d7332', success=True, results=[ExperimentResult(shots=1024, success=True, meas_level=2, data=ExperimentResultData(counts={'0x4': 1, '0x0': 1023}), header=QobjExperimentHeader(clbit_labels=[['cr', 0], ['cr', 1], ['cr', 2], ['cr', 3], ['cr', 4]], creg_sizes=[['cr', 5]], global_phase=1.7319479184152442e-14, memory_slots=5, metadata={}, n_qubits=5, name='k_means', qreg_sizes=[['qr', 5]], qubit_labels=[['qr', 0], ['qr', 1], ['qr', 2], ['qr', 3], ['qr', 4]]), status=DONE, seed_simulator=1988127638, metadata={'noise': 'ideal', 'batched_shots_optimization': False, 'measure_sampling': False, 'parallel_shots': 8, 'remapped_qubits': True, 'active_input_qubits': [1, 2, 4], 'num_clbits': 5, 'parallel_state_update': 1, 'num_qubits': 3, 'device': 'CPU', 'input_qubit_map': [[4, 2], [2, 1], [1, 0]], 'method': 'statevector', 'fusion': {'applied': False, 'max_fused_qubits': 5, 'threshold': 14, 'enabled': True}}, time_taken=0.177093646)], date=2022-11-10T04:01:27.728521, status=COMPLETED, header=QobjHeader(backend_name='qasm_simulator', backend_version='0.11.1'), metadata={'time_taken': 0.178183663, 'time_taken_execute': 0.177163313, 'mpi_rank': 0, 'num_mpi_processes': 1, 'max_gpu_memory_mb': 0, 'max_memory_mb': 31960, 'parallel_experiments': 1, 'time_taken_load_qobj': 0.001009734, 'num_processes_per_experiments': 1, 'omp_enabled': True}, time_taken=0.17920684814453125)\n",
      "theta_1:0.03\n",
      "theta_2:0.04\n",
      "Result(backend_name='qasm_simulator', backend_version='0.11.1', qobj_id='6e30370d-adf0-460b-8d5c-f4de39dc9fca', job_id='64b0c822-a663-4b03-be87-c5967cc4ceef', success=True, results=[ExperimentResult(shots=1024, success=True, meas_level=2, data=ExperimentResultData(counts={'0x4': 1, '0x0': 1023}), header=QobjExperimentHeader(clbit_labels=[['cr', 0], ['cr', 1], ['cr', 2], ['cr', 3], ['cr', 4]], creg_sizes=[['cr', 5]], global_phase=1.865174681370263e-14, memory_slots=5, metadata={}, n_qubits=5, name='k_means', qreg_sizes=[['qr', 5]], qubit_labels=[['qr', 0], ['qr', 1], ['qr', 2], ['qr', 3], ['qr', 4]]), status=DONE, seed_simulator=1698039708, metadata={'noise': 'ideal', 'batched_shots_optimization': False, 'measure_sampling': False, 'parallel_shots': 8, 'remapped_qubits': True, 'active_input_qubits': [1, 2, 4], 'num_clbits': 5, 'parallel_state_update': 1, 'num_qubits': 3, 'device': 'CPU', 'input_qubit_map': [[4, 2], [2, 1], [1, 0]], 'method': 'statevector', 'fusion': {'applied': False, 'max_fused_qubits': 5, 'threshold': 14, 'enabled': True}}, time_taken=0.188900208)], date=2022-11-10T04:01:28.190100, status=COMPLETED, header=QobjHeader(backend_name='qasm_simulator', backend_version='0.11.1'), metadata={'time_taken': 0.189697793, 'time_taken_execute': 0.18897373, 'mpi_rank': 0, 'num_mpi_processes': 1, 'max_gpu_memory_mb': 0, 'max_memory_mb': 31960, 'parallel_experiments': 1, 'time_taken_load_qobj': 0.000713141, 'num_processes_per_experiments': 1, 'omp_enabled': True}, time_taken=0.19003725051879883)\n",
      "theta_1:0.03\n",
      "theta_2:0.05\n",
      "Result(backend_name='qasm_simulator', backend_version='0.11.1', qobj_id='f0b198a6-fb35-4495-b793-b0a663fab4c2', job_id='c6189ab8-e5ee-4b07-9a36-e14e4dd3b43f', success=True, results=[ExperimentResult(shots=1024, success=True, meas_level=2, data=ExperimentResultData(counts={'0x4': 156, '0x0': 868}), header=QobjExperimentHeader(clbit_labels=[['cr', 0], ['cr', 1], ['cr', 2], ['cr', 3], ['cr', 4]], creg_sizes=[['cr', 5]], global_phase=1.9317880628477724e-14, memory_slots=5, metadata={}, n_qubits=5, name='k_means', qreg_sizes=[['qr', 5]], qubit_labels=[['qr', 0], ['qr', 1], ['qr', 2], ['qr', 3], ['qr', 4]]), status=DONE, seed_simulator=2581705095, metadata={'noise': 'ideal', 'batched_shots_optimization': False, 'measure_sampling': False, 'parallel_shots': 8, 'remapped_qubits': True, 'active_input_qubits': [1, 2, 4], 'num_clbits': 5, 'parallel_state_update': 1, 'num_qubits': 3, 'device': 'CPU', 'input_qubit_map': [[4, 2], [2, 1], [1, 0]], 'method': 'statevector', 'fusion': {'applied': False, 'max_fused_qubits': 5, 'threshold': 14, 'enabled': True}}, time_taken=0.184933061)], date=2022-11-10T04:01:28.536242, status=COMPLETED, header=QobjHeader(backend_name='qasm_simulator', backend_version='0.11.1'), metadata={'time_taken': 0.1856223, 'time_taken_execute': 0.185002527, 'mpi_rank': 0, 'num_mpi_processes': 1, 'max_gpu_memory_mb': 0, 'max_memory_mb': 31960, 'parallel_experiments': 1, 'time_taken_load_qobj': 0.000609305, 'num_processes_per_experiments': 1, 'omp_enabled': True}, time_taken=0.18632197380065918)\n",
      "theta_1:0.03\n",
      "theta_2:1.31\n",
      "Result(backend_name='qasm_simulator', backend_version='0.11.1', qobj_id='4ec237e9-bb82-4193-89ba-ca4f691822d4', job_id='675e5519-ed59-4cdc-8c2e-454265857d0d', success=True, results=[ExperimentResult(shots=1024, success=True, meas_level=2, data=ExperimentResultData(counts={'0x4': 194, '0x0': 830}), header=QobjExperimentHeader(clbit_labels=[['cr', 0], ['cr', 1], ['cr', 2], ['cr', 3], ['cr', 4]], creg_sizes=[['cr', 5]], global_phase=1.9984014443252818e-14, memory_slots=5, metadata={}, n_qubits=5, name='k_means', qreg_sizes=[['qr', 5]], qubit_labels=[['qr', 0], ['qr', 1], ['qr', 2], ['qr', 3], ['qr', 4]]), status=DONE, seed_simulator=1295694152, metadata={'noise': 'ideal', 'batched_shots_optimization': False, 'measure_sampling': False, 'parallel_shots': 8, 'remapped_qubits': True, 'active_input_qubits': [1, 2, 4], 'num_clbits': 5, 'parallel_state_update': 1, 'num_qubits': 3, 'device': 'CPU', 'input_qubit_map': [[4, 2], [2, 1], [1, 0]], 'method': 'statevector', 'fusion': {'applied': False, 'max_fused_qubits': 5, 'threshold': 14, 'enabled': True}}, time_taken=0.186951062)], date=2022-11-10T04:01:28.891485, status=COMPLETED, header=QobjHeader(backend_name='qasm_simulator', backend_version='0.11.1'), metadata={'time_taken': 0.187658546, 'time_taken_execute': 0.187019828, 'mpi_rank': 0, 'num_mpi_processes': 1, 'max_gpu_memory_mb': 0, 'max_memory_mb': 31960, 'parallel_experiments': 1, 'time_taken_load_qobj': 0.000628633, 'num_processes_per_experiments': 1, 'omp_enabled': True}, time_taken=0.18800973892211914)\n",
      "theta_1:0.03\n",
      "theta_2:1.32\n",
      "Result(backend_name='qasm_simulator', backend_version='0.11.1', qobj_id='4a0f2ee3-9cca-4e81-be4f-30d154d62e5b', job_id='cabdb714-9be4-4472-839e-bb3a2920315b', success=True, results=[ExperimentResult(shots=1024, success=True, meas_level=2, data=ExperimentResultData(counts={'0x4': 197, '0x0': 827}), header=QobjExperimentHeader(clbit_labels=[['cr', 0], ['cr', 1], ['cr', 2], ['cr', 3], ['cr', 4]], creg_sizes=[['cr', 5]], global_phase=2.0650148258027912e-14, memory_slots=5, metadata={}, n_qubits=5, name='k_means', qreg_sizes=[['qr', 5]], qubit_labels=[['qr', 0], ['qr', 1], ['qr', 2], ['qr', 3], ['qr', 4]]), status=DONE, seed_simulator=2865307098, metadata={'noise': 'ideal', 'batched_shots_optimization': False, 'measure_sampling': False, 'parallel_shots': 8, 'remapped_qubits': True, 'active_input_qubits': [1, 2, 4], 'num_clbits': 5, 'parallel_state_update': 1, 'num_qubits': 3, 'device': 'CPU', 'input_qubit_map': [[4, 2], [2, 1], [1, 0]], 'method': 'statevector', 'fusion': {'applied': False, 'max_fused_qubits': 5, 'threshold': 14, 'enabled': True}}, time_taken=0.207370235)], date=2022-11-10T04:01:29.286727, status=COMPLETED, header=QobjHeader(backend_name='qasm_simulator', backend_version='0.11.1'), metadata={'time_taken': 0.208279504, 'time_taken_execute': 0.207441476, 'mpi_rank': 0, 'num_mpi_processes': 1, 'max_gpu_memory_mb': 0, 'max_memory_mb': 31960, 'parallel_experiments': 1, 'time_taken_load_qobj': 0.000827572, 'num_processes_per_experiments': 1, 'omp_enabled': True}, time_taken=0.20914864540100098)\n",
      "theta_1:0.03\n",
      "theta_2:1.33\n",
      "Result(backend_name='qasm_simulator', backend_version='0.11.1', qobj_id='5bd3d550-c83e-4188-aa82-7cfc1a8a1635', job_id='a069792f-6dc3-43cd-a2e5-59ab7e5ccc2c', success=True, results=[ExperimentResult(shots=1024, success=True, meas_level=2, data=ExperimentResultData(counts={'0x4': 185, '0x0': 839}), header=QobjExperimentHeader(clbit_labels=[['cr', 0], ['cr', 1], ['cr', 2], ['cr', 3], ['cr', 4]], creg_sizes=[['cr', 5]], global_phase=2.1316282072803006e-14, memory_slots=5, metadata={}, n_qubits=5, name='k_means', qreg_sizes=[['qr', 5]], qubit_labels=[['qr', 0], ['qr', 1], ['qr', 2], ['qr', 3], ['qr', 4]]), status=DONE, seed_simulator=2934864399, metadata={'noise': 'ideal', 'batched_shots_optimization': False, 'measure_sampling': False, 'parallel_shots': 8, 'remapped_qubits': True, 'active_input_qubits': [1, 2, 4], 'num_clbits': 5, 'parallel_state_update': 1, 'num_qubits': 3, 'device': 'CPU', 'input_qubit_map': [[4, 2], [2, 1], [1, 0]], 'method': 'statevector', 'fusion': {'applied': False, 'max_fused_qubits': 5, 'threshold': 14, 'enabled': True}}, time_taken=0.207494696)], date=2022-11-10T04:01:29.677796, status=COMPLETED, header=QobjHeader(backend_name='qasm_simulator', backend_version='0.11.1'), metadata={'time_taken': 0.20837061, 'time_taken_execute': 0.20754568, 'mpi_rank': 0, 'num_mpi_processes': 1, 'max_gpu_memory_mb': 0, 'max_memory_mb': 31960, 'parallel_experiments': 1, 'time_taken_load_qobj': 0.000812828, 'num_processes_per_experiments': 1, 'omp_enabled': True}, time_taken=0.2092118263244629)\n",
      "theta_1:0.03\n",
      "theta_2:1.34\n",
      "Result(backend_name='qasm_simulator', backend_version='0.11.1', qobj_id='0ce28358-fb9d-4154-9a70-f8562bc6ae85', job_id='fab2cd1e-f15e-44a0-b0b5-9a9cff60c26a', success=True, results=[ExperimentResult(shots=1024, success=True, meas_level=2, data=ExperimentResultData(counts={'0x4': 179, '0x0': 845}), header=QobjExperimentHeader(clbit_labels=[['cr', 0], ['cr', 1], ['cr', 2], ['cr', 3], ['cr', 4]], creg_sizes=[['cr', 5]], global_phase=2.19824158875781e-14, memory_slots=5, metadata={}, n_qubits=5, name='k_means', qreg_sizes=[['qr', 5]], qubit_labels=[['qr', 0], ['qr', 1], ['qr', 2], ['qr', 3], ['qr', 4]]), status=DONE, seed_simulator=2502446499, metadata={'noise': 'ideal', 'batched_shots_optimization': False, 'measure_sampling': False, 'parallel_shots': 8, 'remapped_qubits': True, 'active_input_qubits': [1, 2, 4], 'num_clbits': 5, 'parallel_state_update': 1, 'num_qubits': 3, 'device': 'CPU', 'input_qubit_map': [[4, 2], [2, 1], [1, 0]], 'method': 'statevector', 'fusion': {'applied': False, 'max_fused_qubits': 5, 'threshold': 14, 'enabled': True}}, time_taken=0.228995311)], date=2022-11-10T04:01:30.095571, status=COMPLETED, header=QobjHeader(backend_name='qasm_simulator', backend_version='0.11.1'), metadata={'time_taken': 0.22989414, 'time_taken_execute': 0.229061071, 'mpi_rank': 0, 'num_mpi_processes': 1, 'max_gpu_memory_mb': 0, 'max_memory_mb': 31960, 'parallel_experiments': 1, 'time_taken_load_qobj': 0.000822184, 'num_processes_per_experiments': 1, 'omp_enabled': True}, time_taken=0.23029541969299316)\n",
      "theta_1:0.03\n",
      "theta_2:1.35\n",
      "Result(backend_name='qasm_simulator', backend_version='0.11.1', qobj_id='2b3e651c-40ff-4262-9bc9-e29a9336d2d2', job_id='db25e973-fe1f-480e-81d0-0bbce67c08ce', success=True, results=[ExperimentResult(shots=1024, success=True, meas_level=2, data=ExperimentResultData(counts={'0x0': 1024}), header=QobjExperimentHeader(clbit_labels=[['cr', 0], ['cr', 1], ['cr', 2], ['cr', 3], ['cr', 4]], creg_sizes=[['cr', 5]], global_phase=2.3314683517128287e-14, memory_slots=5, metadata={}, n_qubits=5, name='k_means', qreg_sizes=[['qr', 5]], qubit_labels=[['qr', 0], ['qr', 1], ['qr', 2], ['qr', 3], ['qr', 4]]), status=DONE, seed_simulator=470243137, metadata={'noise': 'ideal', 'batched_shots_optimization': False, 'measure_sampling': False, 'parallel_shots': 8, 'remapped_qubits': True, 'active_input_qubits': [1, 2, 4], 'num_clbits': 5, 'parallel_state_update': 1, 'num_qubits': 3, 'device': 'CPU', 'input_qubit_map': [[4, 2], [2, 1], [1, 0]], 'method': 'statevector', 'fusion': {'applied': False, 'max_fused_qubits': 5, 'threshold': 14, 'enabled': True}}, time_taken=0.229242374)], date=2022-11-10T04:01:30.534402, status=COMPLETED, header=QobjHeader(backend_name='qasm_simulator', backend_version='0.11.1'), metadata={'time_taken': 0.230120692, 'time_taken_execute': 0.229310229, 'mpi_rank': 0, 'num_mpi_processes': 1, 'max_gpu_memory_mb': 0, 'max_memory_mb': 31960, 'parallel_experiments': 1, 'time_taken_load_qobj': 0.000799606, 'num_processes_per_experiments': 1, 'omp_enabled': True}, time_taken=0.23111176490783691)\n",
      "theta_1:0.04\n",
      "theta_2:0.05\n",
      "Result(backend_name='qasm_simulator', backend_version='0.11.1', qobj_id='44227d60-1926-4169-a2d1-215da0895ee7', job_id='db51db70-2c15-4583-8b9d-6ef93c472bfe', success=True, results=[ExperimentResult(shots=1024, success=True, meas_level=2, data=ExperimentResultData(counts={'0x4': 180, '0x0': 844}), header=QobjExperimentHeader(clbit_labels=[['cr', 0], ['cr', 1], ['cr', 2], ['cr', 3], ['cr', 4]], creg_sizes=[['cr', 5]], global_phase=2.398081733190338e-14, memory_slots=5, metadata={}, n_qubits=5, name='k_means', qreg_sizes=[['qr', 5]], qubit_labels=[['qr', 0], ['qr', 1], ['qr', 2], ['qr', 3], ['qr', 4]]), status=DONE, seed_simulator=2065727481, metadata={'noise': 'ideal', 'batched_shots_optimization': False, 'measure_sampling': False, 'parallel_shots': 8, 'remapped_qubits': True, 'active_input_qubits': [1, 2, 4], 'num_clbits': 5, 'parallel_state_update': 1, 'num_qubits': 3, 'device': 'CPU', 'input_qubit_map': [[4, 2], [2, 1], [1, 0]], 'method': 'statevector', 'fusion': {'applied': False, 'max_fused_qubits': 5, 'threshold': 14, 'enabled': True}}, time_taken=0.242557268)], date=2022-11-10T04:01:30.978678, status=COMPLETED, header=QobjHeader(backend_name='qasm_simulator', backend_version='0.11.1'), metadata={'time_taken': 0.243349871, 'time_taken_execute': 0.242628189, 'mpi_rank': 0, 'num_mpi_processes': 1, 'max_gpu_memory_mb': 0, 'max_memory_mb': 31960, 'parallel_experiments': 1, 'time_taken_load_qobj': 0.000711065, 'num_processes_per_experiments': 1, 'omp_enabled': True}, time_taken=0.24445605278015137)\n",
      "theta_1:0.04\n",
      "theta_2:1.31\n",
      "Result(backend_name='qasm_simulator', backend_version='0.11.1', qobj_id='6060315c-52c1-400e-8e37-8aa566b2a98a', job_id='074b1ef0-7068-4da8-a8df-f64986a23f28', success=True, results=[ExperimentResult(shots=1024, success=True, meas_level=2, data=ExperimentResultData(counts={'0x4': 174, '0x0': 850}), header=QobjExperimentHeader(clbit_labels=[['cr', 0], ['cr', 1], ['cr', 2], ['cr', 3], ['cr', 4]], creg_sizes=[['cr', 5]], global_phase=2.4646951146678475e-14, memory_slots=5, metadata={}, n_qubits=5, name='k_means', qreg_sizes=[['qr', 5]], qubit_labels=[['qr', 0], ['qr', 1], ['qr', 2], ['qr', 3], ['qr', 4]]), status=DONE, seed_simulator=3069489522, metadata={'noise': 'ideal', 'batched_shots_optimization': False, 'measure_sampling': False, 'parallel_shots': 8, 'remapped_qubits': True, 'active_input_qubits': [1, 2, 4], 'num_clbits': 5, 'parallel_state_update': 1, 'num_qubits': 3, 'device': 'CPU', 'input_qubit_map': [[4, 2], [2, 1], [1, 0]], 'method': 'statevector', 'fusion': {'applied': False, 'max_fused_qubits': 5, 'threshold': 14, 'enabled': True}}, time_taken=0.261662564)], date=2022-11-10T04:01:31.473848, status=COMPLETED, header=QobjHeader(backend_name='qasm_simulator', backend_version='0.11.1'), metadata={'time_taken': 0.262580301, 'time_taken_execute': 0.261731273, 'mpi_rank': 0, 'num_mpi_processes': 1, 'max_gpu_memory_mb': 0, 'max_memory_mb': 31960, 'parallel_experiments': 1, 'time_taken_load_qobj': 0.000838439, 'num_processes_per_experiments': 1, 'omp_enabled': True}, time_taken=0.263319730758667)\n",
      "theta_1:0.04\n",
      "theta_2:1.32\n",
      "Result(backend_name='qasm_simulator', backend_version='0.11.1', qobj_id='29c9ae52-7bcc-48c4-bcd3-804f52aed897', job_id='0d989e5f-7014-4d84-be48-09e16aa33e67', success=True, results=[ExperimentResult(shots=1024, success=True, meas_level=2, data=ExperimentResultData(counts={'0x0': 843, '0x4': 181}), header=QobjExperimentHeader(clbit_labels=[['cr', 0], ['cr', 1], ['cr', 2], ['cr', 3], ['cr', 4]], creg_sizes=[['cr', 5]], global_phase=2.531308496145357e-14, memory_slots=5, metadata={}, n_qubits=5, name='k_means', qreg_sizes=[['qr', 5]], qubit_labels=[['qr', 0], ['qr', 1], ['qr', 2], ['qr', 3], ['qr', 4]]), status=DONE, seed_simulator=755830888, metadata={'noise': 'ideal', 'batched_shots_optimization': False, 'measure_sampling': False, 'parallel_shots': 8, 'remapped_qubits': True, 'active_input_qubits': [1, 2, 4], 'num_clbits': 5, 'parallel_state_update': 1, 'num_qubits': 3, 'device': 'CPU', 'input_qubit_map': [[4, 2], [2, 1], [1, 0]], 'method': 'statevector', 'fusion': {'applied': False, 'max_fused_qubits': 5, 'threshold': 14, 'enabled': True}}, time_taken=0.263374394)], date=2022-11-10T04:01:31.956602, status=COMPLETED, header=QobjHeader(backend_name='qasm_simulator', backend_version='0.11.1'), metadata={'time_taken': 0.264375937, 'time_taken_execute': 0.263454274, 'mpi_rank': 0, 'num_mpi_processes': 1, 'max_gpu_memory_mb': 0, 'max_memory_mb': 31960, 'parallel_experiments': 1, 'time_taken_load_qobj': 0.000910225, 'num_processes_per_experiments': 1, 'omp_enabled': True}, time_taken=0.2651069164276123)\n",
      "theta_1:0.04\n",
      "theta_2:1.33\n",
      "Result(backend_name='qasm_simulator', backend_version='0.11.1', qobj_id='1d51d44f-a461-412e-af68-8393b961d3a8', job_id='c044dbba-fa25-4957-9f9a-6c245e2e6ac8', success=True, results=[ExperimentResult(shots=1024, success=True, meas_level=2, data=ExperimentResultData(counts={'0x0': 828, '0x4': 196}), header=QobjExperimentHeader(clbit_labels=[['cr', 0], ['cr', 1], ['cr', 2], ['cr', 3], ['cr', 4]], creg_sizes=[['cr', 5]], global_phase=2.5979218776228663e-14, memory_slots=5, metadata={}, n_qubits=5, name='k_means', qreg_sizes=[['qr', 5]], qubit_labels=[['qr', 0], ['qr', 1], ['qr', 2], ['qr', 3], ['qr', 4]]), status=DONE, seed_simulator=1048545643, metadata={'noise': 'ideal', 'batched_shots_optimization': False, 'measure_sampling': False, 'parallel_shots': 8, 'remapped_qubits': True, 'active_input_qubits': [1, 2, 4], 'num_clbits': 5, 'parallel_state_update': 1, 'num_qubits': 3, 'device': 'CPU', 'input_qubit_map': [[4, 2], [2, 1], [1, 0]], 'method': 'statevector', 'fusion': {'applied': False, 'max_fused_qubits': 5, 'threshold': 14, 'enabled': True}}, time_taken=0.279690634)], date=2022-11-10T04:01:32.465419, status=COMPLETED, header=QobjHeader(backend_name='qasm_simulator', backend_version='0.11.1'), metadata={'time_taken': 0.280737085, 'time_taken_execute': 0.279758081, 'mpi_rank': 0, 'num_mpi_processes': 1, 'max_gpu_memory_mb': 0, 'max_memory_mb': 31960, 'parallel_experiments': 1, 'time_taken_load_qobj': 0.000967047, 'num_processes_per_experiments': 1, 'omp_enabled': True}, time_taken=0.28150415420532227)\n",
      "theta_1:0.04\n",
      "theta_2:1.34\n",
      "Result(backend_name='qasm_simulator', backend_version='0.11.1', qobj_id='1a7b2cde-24ba-4839-9f32-501b279b0bb2', job_id='ee4b3835-9482-4913-a448-fac7615f3ae9', success=True, results=[ExperimentResult(shots=1024, success=True, meas_level=2, data=ExperimentResultData(counts={'0x4': 180, '0x0': 844}), header=QobjExperimentHeader(clbit_labels=[['cr', 0], ['cr', 1], ['cr', 2], ['cr', 3], ['cr', 4]], creg_sizes=[['cr', 5]], global_phase=2.6645352591003757e-14, memory_slots=5, metadata={}, n_qubits=5, name='k_means', qreg_sizes=[['qr', 5]], qubit_labels=[['qr', 0], ['qr', 1], ['qr', 2], ['qr', 3], ['qr', 4]]), status=DONE, seed_simulator=704213440, metadata={'noise': 'ideal', 'batched_shots_optimization': False, 'measure_sampling': False, 'parallel_shots': 8, 'remapped_qubits': True, 'active_input_qubits': [1, 2, 4], 'num_clbits': 5, 'parallel_state_update': 1, 'num_qubits': 3, 'device': 'CPU', 'input_qubit_map': [[4, 2], [2, 1], [1, 0]], 'method': 'statevector', 'fusion': {'applied': False, 'max_fused_qubits': 5, 'threshold': 14, 'enabled': True}}, time_taken=0.281017418)], date=2022-11-10T04:01:32.988102, status=COMPLETED, header=QobjHeader(backend_name='qasm_simulator', backend_version='0.11.1'), metadata={'time_taken': 0.282010916, 'time_taken_execute': 0.281087354, 'mpi_rank': 0, 'num_mpi_processes': 1, 'max_gpu_memory_mb': 0, 'max_memory_mb': 31960, 'parallel_experiments': 1, 'time_taken_load_qobj': 0.000912169, 'num_processes_per_experiments': 1, 'omp_enabled': True}, time_taken=0.2827420234680176)\n",
      "theta_1:0.04\n",
      "theta_2:1.35\n",
      "Result(backend_name='qasm_simulator', backend_version='0.11.1', qobj_id='ff6a8f50-f4d4-4e3c-9b55-6e70dc436d93', job_id='1260fa64-fc56-45e9-959c-8ae35d2c8d36', success=True, results=[ExperimentResult(shots=1024, success=True, meas_level=2, data=ExperimentResultData(counts={'0x4': 167, '0x0': 857}), header=QobjExperimentHeader(clbit_labels=[['cr', 0], ['cr', 1], ['cr', 2], ['cr', 3], ['cr', 4]], creg_sizes=[['cr', 5]], global_phase=2.731148640577885e-14, memory_slots=5, metadata={}, n_qubits=5, name='k_means', qreg_sizes=[['qr', 5]], qubit_labels=[['qr', 0], ['qr', 1], ['qr', 2], ['qr', 3], ['qr', 4]]), status=DONE, seed_simulator=164992555, metadata={'noise': 'ideal', 'batched_shots_optimization': False, 'measure_sampling': False, 'parallel_shots': 8, 'remapped_qubits': True, 'active_input_qubits': [1, 2, 4], 'num_clbits': 5, 'parallel_state_update': 1, 'num_qubits': 3, 'device': 'CPU', 'input_qubit_map': [[4, 2], [2, 1], [1, 0]], 'method': 'statevector', 'fusion': {'applied': False, 'max_fused_qubits': 5, 'threshold': 14, 'enabled': True}}, time_taken=0.28811146)], date=2022-11-10T04:01:33.642652, status=COMPLETED, header=QobjHeader(backend_name='qasm_simulator', backend_version='0.11.1'), metadata={'time_taken': 0.289163189, 'time_taken_execute': 0.288180994, 'mpi_rank': 0, 'num_mpi_processes': 1, 'max_gpu_memory_mb': 0, 'max_memory_mb': 31960, 'parallel_experiments': 1, 'time_taken_load_qobj': 0.000971826, 'num_processes_per_experiments': 1, 'omp_enabled': True}, time_taken=0.2896769046783447)\n",
      "theta_1:0.05\n",
      "theta_2:1.31\n",
      "Result(backend_name='qasm_simulator', backend_version='0.11.1', qobj_id='31234627-af07-45e4-9e77-54fd8f553976', job_id='651f4984-57ac-4caf-9a05-b89a2eb641cf', success=True, results=[ExperimentResult(shots=1024, success=True, meas_level=2, data=ExperimentResultData(counts={'0x4': 175, '0x0': 849}), header=QobjExperimentHeader(clbit_labels=[['cr', 0], ['cr', 1], ['cr', 2], ['cr', 3], ['cr', 4]], creg_sizes=[['cr', 5]], global_phase=2.7977620220553945e-14, memory_slots=5, metadata={}, n_qubits=5, name='k_means', qreg_sizes=[['qr', 5]], qubit_labels=[['qr', 0], ['qr', 1], ['qr', 2], ['qr', 3], ['qr', 4]]), status=DONE, seed_simulator=3612777180, metadata={'noise': 'ideal', 'batched_shots_optimization': False, 'measure_sampling': False, 'parallel_shots': 8, 'remapped_qubits': True, 'active_input_qubits': [1, 2, 4], 'num_clbits': 5, 'parallel_state_update': 1, 'num_qubits': 3, 'device': 'CPU', 'input_qubit_map': [[4, 2], [2, 1], [1, 0]], 'method': 'statevector', 'fusion': {'applied': False, 'max_fused_qubits': 5, 'threshold': 14, 'enabled': True}}, time_taken=0.307240459)], date=2022-11-10T04:01:34.203321, status=COMPLETED, header=QobjHeader(backend_name='qasm_simulator', backend_version='0.11.1'), metadata={'time_taken': 0.308361745, 'time_taken_execute': 0.307309971, 'mpi_rank': 0, 'num_mpi_processes': 1, 'max_gpu_memory_mb': 0, 'max_memory_mb': 31960, 'parallel_experiments': 1, 'time_taken_load_qobj': 0.00104029, 'num_processes_per_experiments': 1, 'omp_enabled': True}, time_taken=0.31004810333251953)\n",
      "theta_1:0.05\n",
      "theta_2:1.32\n",
      "Result(backend_name='qasm_simulator', backend_version='0.11.1', qobj_id='c1c7af57-88d0-4b40-b993-49978f801eb4', job_id='856772bd-8300-41e6-a238-7fad8acfd149', success=True, results=[ExperimentResult(shots=1024, success=True, meas_level=2, data=ExperimentResultData(counts={'0x4': 176, '0x0': 848}), header=QobjExperimentHeader(clbit_labels=[['cr', 0], ['cr', 1], ['cr', 2], ['cr', 3], ['cr', 4]], creg_sizes=[['cr', 5]], global_phase=2.864375403532904e-14, memory_slots=5, metadata={}, n_qubits=5, name='k_means', qreg_sizes=[['qr', 5]], qubit_labels=[['qr', 0], ['qr', 1], ['qr', 2], ['qr', 3], ['qr', 4]]), status=DONE, seed_simulator=210369368, metadata={'noise': 'ideal', 'batched_shots_optimization': False, 'measure_sampling': False, 'parallel_shots': 8, 'remapped_qubits': True, 'active_input_qubits': [1, 2, 4], 'num_clbits': 5, 'parallel_state_update': 1, 'num_qubits': 3, 'device': 'CPU', 'input_qubit_map': [[4, 2], [2, 1], [1, 0]], 'method': 'statevector', 'fusion': {'applied': False, 'max_fused_qubits': 5, 'threshold': 14, 'enabled': True}}, time_taken=0.282201214)], date=2022-11-10T04:01:34.745158, status=COMPLETED, header=QobjHeader(backend_name='qasm_simulator', backend_version='0.11.1'), metadata={'time_taken': 0.283343801, 'time_taken_execute': 0.282271474, 'mpi_rank': 0, 'num_mpi_processes': 1, 'max_gpu_memory_mb': 0, 'max_memory_mb': 31960, 'parallel_experiments': 1, 'time_taken_load_qobj': 0.001061249, 'num_processes_per_experiments': 1, 'omp_enabled': True}, time_taken=0.2851858139038086)\n",
      "theta_1:0.05\n",
      "theta_2:1.33\n",
      "Result(backend_name='qasm_simulator', backend_version='0.11.1', qobj_id='47269aa8-b31d-4618-9b36-97fd0fa20402', job_id='ba07114a-f862-4bef-a89d-258f9fe385fe', success=True, results=[ExperimentResult(shots=1024, success=True, meas_level=2, data=ExperimentResultData(counts={'0x4': 191, '0x0': 833}), header=QobjExperimentHeader(clbit_labels=[['cr', 0], ['cr', 1], ['cr', 2], ['cr', 3], ['cr', 4]], creg_sizes=[['cr', 5]], global_phase=2.930988785010413e-14, memory_slots=5, metadata={}, n_qubits=5, name='k_means', qreg_sizes=[['qr', 5]], qubit_labels=[['qr', 0], ['qr', 1], ['qr', 2], ['qr', 3], ['qr', 4]]), status=DONE, seed_simulator=2185141149, metadata={'noise': 'ideal', 'batched_shots_optimization': False, 'measure_sampling': False, 'parallel_shots': 8, 'remapped_qubits': True, 'active_input_qubits': [1, 2, 4], 'num_clbits': 5, 'parallel_state_update': 1, 'num_qubits': 3, 'device': 'CPU', 'input_qubit_map': [[4, 2], [2, 1], [1, 0]], 'method': 'statevector', 'fusion': {'applied': False, 'max_fused_qubits': 5, 'threshold': 14, 'enabled': True}}, time_taken=0.304717155)], date=2022-11-10T04:01:35.329798, status=COMPLETED, header=QobjHeader(backend_name='qasm_simulator', backend_version='0.11.1'), metadata={'time_taken': 0.305878219, 'time_taken_execute': 0.304787195, 'mpi_rank': 0, 'num_mpi_processes': 1, 'max_gpu_memory_mb': 0, 'max_memory_mb': 31960, 'parallel_experiments': 1, 'time_taken_load_qobj': 0.001079968, 'num_processes_per_experiments': 1, 'omp_enabled': True}, time_taken=0.30625224113464355)\n",
      "theta_1:0.05\n",
      "theta_2:1.34\n",
      "Result(backend_name='qasm_simulator', backend_version='0.11.1', qobj_id='632c84b4-0ef1-49b6-84fd-b95869a3f45b', job_id='5358f217-8979-4a4e-a0ad-40960fd2a686', success=True, results=[ExperimentResult(shots=1024, success=True, meas_level=2, data=ExperimentResultData(counts={'0x4': 187, '0x0': 837}), header=QobjExperimentHeader(clbit_labels=[['cr', 0], ['cr', 1], ['cr', 2], ['cr', 3], ['cr', 4]], creg_sizes=[['cr', 5]], global_phase=2.9976021664879227e-14, memory_slots=5, metadata={}, n_qubits=5, name='k_means', qreg_sizes=[['qr', 5]], qubit_labels=[['qr', 0], ['qr', 1], ['qr', 2], ['qr', 3], ['qr', 4]]), status=DONE, seed_simulator=2294918962, metadata={'noise': 'ideal', 'batched_shots_optimization': False, 'measure_sampling': False, 'parallel_shots': 8, 'remapped_qubits': True, 'active_input_qubits': [1, 2, 4], 'num_clbits': 5, 'parallel_state_update': 1, 'num_qubits': 3, 'device': 'CPU', 'input_qubit_map': [[4, 2], [2, 1], [1, 0]], 'method': 'statevector', 'fusion': {'applied': False, 'max_fused_qubits': 5, 'threshold': 14, 'enabled': True}}, time_taken=0.327617031)], date=2022-11-10T04:01:35.931308, status=COMPLETED, header=QobjHeader(backend_name='qasm_simulator', backend_version='0.11.1'), metadata={'time_taken': 0.328653536, 'time_taken_execute': 0.327686344, 'mpi_rank': 0, 'num_mpi_processes': 1, 'max_gpu_memory_mb': 0, 'max_memory_mb': 31960, 'parallel_experiments': 1, 'time_taken_load_qobj': 0.000955255, 'num_processes_per_experiments': 1, 'omp_enabled': True}, time_taken=0.3291594982147217)\n",
      "theta_1:0.05\n",
      "theta_2:1.35\n",
      "Result(backend_name='qasm_simulator', backend_version='0.11.1', qobj_id='32c98fd1-5213-43ac-892f-249b9daef58c', job_id='487140f0-d118-4020-9745-e6cdcf75db0b', success=True, results=[ExperimentResult(shots=1024, success=True, meas_level=2, data=ExperimentResultData(counts={'0x0': 1024}), header=QobjExperimentHeader(clbit_labels=[['cr', 0], ['cr', 1], ['cr', 2], ['cr', 3], ['cr', 4]], creg_sizes=[['cr', 5]], global_phase=2.9976021664879227e-14, memory_slots=5, metadata={}, n_qubits=5, name='k_means', qreg_sizes=[['qr', 5]], qubit_labels=[['qr', 0], ['qr', 1], ['qr', 2], ['qr', 3], ['qr', 4]]), status=DONE, seed_simulator=4251940864, metadata={'noise': 'ideal', 'batched_shots_optimization': False, 'measure_sampling': False, 'parallel_shots': 8, 'remapped_qubits': True, 'active_input_qubits': [1, 2, 4], 'num_clbits': 5, 'parallel_state_update': 1, 'num_qubits': 3, 'device': 'CPU', 'input_qubit_map': [[4, 2], [2, 1], [1, 0]], 'method': 'statevector', 'fusion': {'applied': False, 'max_fused_qubits': 5, 'threshold': 14, 'enabled': True}}, time_taken=0.335455182)], date=2022-11-10T04:01:36.553956, status=COMPLETED, header=QobjHeader(backend_name='qasm_simulator', backend_version='0.11.1'), metadata={'time_taken': 0.33745599, 'time_taken_execute': 0.335547682, 'mpi_rank': 0, 'num_mpi_processes': 1, 'max_gpu_memory_mb': 0, 'max_memory_mb': 31960, 'parallel_experiments': 1, 'time_taken_load_qobj': 0.001895042, 'num_processes_per_experiments': 1, 'omp_enabled': True}, time_taken=0.3390979766845703)\n",
      "theta_1:1.31\n",
      "theta_2:1.32\n",
      "Result(backend_name='qasm_simulator', backend_version='0.11.1', qobj_id='f8f33078-3c35-4ef5-8fab-f7b7a4aa4052', job_id='008c3dd0-242d-4204-ad4d-304656805d89', success=True, results=[ExperimentResult(shots=1024, success=True, meas_level=2, data=ExperimentResultData(counts={'0x0': 1024}), header=QobjExperimentHeader(clbit_labels=[['cr', 0], ['cr', 1], ['cr', 2], ['cr', 3], ['cr', 4]], creg_sizes=[['cr', 5]], global_phase=2.9976021664879227e-14, memory_slots=5, metadata={}, n_qubits=5, name='k_means', qreg_sizes=[['qr', 5]], qubit_labels=[['qr', 0], ['qr', 1], ['qr', 2], ['qr', 3], ['qr', 4]]), status=DONE, seed_simulator=1421041716, metadata={'noise': 'ideal', 'batched_shots_optimization': False, 'measure_sampling': False, 'parallel_shots': 8, 'remapped_qubits': True, 'active_input_qubits': [1, 2, 4], 'num_clbits': 5, 'parallel_state_update': 1, 'num_qubits': 3, 'device': 'CPU', 'input_qubit_map': [[4, 2], [2, 1], [1, 0]], 'method': 'statevector', 'fusion': {'applied': False, 'max_fused_qubits': 5, 'threshold': 14, 'enabled': True}}, time_taken=0.371597819)], date=2022-11-10T04:01:37.230185, status=COMPLETED, header=QobjHeader(backend_name='qasm_simulator', backend_version='0.11.1'), metadata={'time_taken': 0.372657228, 'time_taken_execute': 0.371666068, 'mpi_rank': 0, 'num_mpi_processes': 1, 'max_gpu_memory_mb': 0, 'max_memory_mb': 31960, 'parallel_experiments': 1, 'time_taken_load_qobj': 0.000980214, 'num_processes_per_experiments': 1, 'omp_enabled': True}, time_taken=0.37334609031677246)\n",
      "theta_1:1.31\n",
      "theta_2:1.33\n",
      "Result(backend_name='qasm_simulator', backend_version='0.11.1', qobj_id='07ad11df-205b-4072-b9a1-6bab1334aa1c', job_id='fed5dde6-f9c2-4316-a50f-9c1934eb039c', success=True, results=[ExperimentResult(shots=1024, success=True, meas_level=2, data=ExperimentResultData(counts={'0x0': 1024}), header=QobjExperimentHeader(clbit_labels=[['cr', 0], ['cr', 1], ['cr', 2], ['cr', 3], ['cr', 4]], creg_sizes=[['cr', 5]], global_phase=2.9976021664879227e-14, memory_slots=5, metadata={}, n_qubits=5, name='k_means', qreg_sizes=[['qr', 5]], qubit_labels=[['qr', 0], ['qr', 1], ['qr', 2], ['qr', 3], ['qr', 4]]), status=DONE, seed_simulator=1523666006, metadata={'noise': 'ideal', 'batched_shots_optimization': False, 'measure_sampling': False, 'parallel_shots': 8, 'remapped_qubits': True, 'active_input_qubits': [1, 2, 4], 'num_clbits': 5, 'parallel_state_update': 1, 'num_qubits': 3, 'device': 'CPU', 'input_qubit_map': [[4, 2], [2, 1], [1, 0]], 'method': 'statevector', 'fusion': {'applied': False, 'max_fused_qubits': 5, 'threshold': 14, 'enabled': True}}, time_taken=0.350755427)], date=2022-11-10T04:01:37.931712, status=COMPLETED, header=QobjHeader(backend_name='qasm_simulator', backend_version='0.11.1'), metadata={'time_taken': 0.352185527, 'time_taken_execute': 0.350827274, 'mpi_rank': 0, 'num_mpi_processes': 1, 'max_gpu_memory_mb': 0, 'max_memory_mb': 31960, 'parallel_experiments': 1, 'time_taken_load_qobj': 0.001347434, 'num_processes_per_experiments': 1, 'omp_enabled': True}, time_taken=0.3524923324584961)\n",
      "theta_1:1.31\n",
      "theta_2:1.34\n",
      "Result(backend_name='qasm_simulator', backend_version='0.11.1', qobj_id='ab55ebe3-b5db-4018-8e43-f5d965cf5c67', job_id='81464ee4-a786-414f-9f52-9cf6ddfb17cf', success=True, results=[ExperimentResult(shots=1024, success=True, meas_level=2, data=ExperimentResultData(counts={'0x0': 1024}), header=QobjExperimentHeader(clbit_labels=[['cr', 0], ['cr', 1], ['cr', 2], ['cr', 3], ['cr', 4]], creg_sizes=[['cr', 5]], global_phase=2.9976021664879227e-14, memory_slots=5, metadata={}, n_qubits=5, name='k_means', qreg_sizes=[['qr', 5]], qubit_labels=[['qr', 0], ['qr', 1], ['qr', 2], ['qr', 3], ['qr', 4]]), status=DONE, seed_simulator=459230186, metadata={'noise': 'ideal', 'batched_shots_optimization': False, 'measure_sampling': False, 'parallel_shots': 8, 'remapped_qubits': True, 'active_input_qubits': [1, 2, 4], 'num_clbits': 5, 'parallel_state_update': 1, 'num_qubits': 3, 'device': 'CPU', 'input_qubit_map': [[4, 2], [2, 1], [1, 0]], 'method': 'statevector', 'fusion': {'applied': False, 'max_fused_qubits': 5, 'threshold': 14, 'enabled': True}}, time_taken=0.359365958)], date=2022-11-10T04:01:38.597475, status=COMPLETED, header=QobjHeader(backend_name='qasm_simulator', backend_version='0.11.1'), metadata={'time_taken': 0.360482917, 'time_taken_execute': 0.359434153, 'mpi_rank': 0, 'num_mpi_processes': 1, 'max_gpu_memory_mb': 0, 'max_memory_mb': 31960, 'parallel_experiments': 1, 'time_taken_load_qobj': 0.001037649, 'num_processes_per_experiments': 1, 'omp_enabled': True}, time_taken=0.3608529567718506)\n",
      "theta_1:1.31\n",
      "theta_2:1.35\n",
      "Result(backend_name='qasm_simulator', backend_version='0.11.1', qobj_id='79998985-9f5a-4e87-b52d-26a8f62a6339', job_id='8b649787-856d-4b3d-a890-13ac1e15ab40', success=True, results=[ExperimentResult(shots=1024, success=True, meas_level=2, data=ExperimentResultData(counts={'0x0': 1024}), header=QobjExperimentHeader(clbit_labels=[['cr', 0], ['cr', 1], ['cr', 2], ['cr', 3], ['cr', 4]], creg_sizes=[['cr', 5]], global_phase=2.9976021664879227e-14, memory_slots=5, metadata={}, n_qubits=5, name='k_means', qreg_sizes=[['qr', 5]], qubit_labels=[['qr', 0], ['qr', 1], ['qr', 2], ['qr', 3], ['qr', 4]]), status=DONE, seed_simulator=525449373, metadata={'noise': 'ideal', 'batched_shots_optimization': False, 'measure_sampling': False, 'parallel_shots': 8, 'remapped_qubits': True, 'active_input_qubits': [1, 2, 4], 'num_clbits': 5, 'parallel_state_update': 1, 'num_qubits': 3, 'device': 'CPU', 'input_qubit_map': [[4, 2], [2, 1], [1, 0]], 'method': 'statevector', 'fusion': {'applied': False, 'max_fused_qubits': 5, 'threshold': 14, 'enabled': True}}, time_taken=0.351685467)], date=2022-11-10T04:01:39.257089, status=COMPLETED, header=QobjHeader(backend_name='qasm_simulator', backend_version='0.11.1'), metadata={'time_taken': 0.35282393, 'time_taken_execute': 0.351752996, 'mpi_rank': 0, 'num_mpi_processes': 1, 'max_gpu_memory_mb': 0, 'max_memory_mb': 31960, 'parallel_experiments': 1, 'time_taken_load_qobj': 0.001060445, 'num_processes_per_experiments': 1, 'omp_enabled': True}, time_taken=0.35331225395202637)\n",
      "theta_1:1.32\n",
      "theta_2:1.33\n",
      "Result(backend_name='qasm_simulator', backend_version='0.11.1', qobj_id='1ddabb26-d215-49e2-8d45-fa772a7d9334', job_id='adf741f1-1e1d-4a25-8ba0-fd6dc39f5b9e', success=True, results=[ExperimentResult(shots=1024, success=True, meas_level=2, data=ExperimentResultData(counts={'0x0': 1024}), header=QobjExperimentHeader(clbit_labels=[['cr', 0], ['cr', 1], ['cr', 2], ['cr', 3], ['cr', 4]], creg_sizes=[['cr', 5]], global_phase=2.9976021664879227e-14, memory_slots=5, metadata={}, n_qubits=5, name='k_means', qreg_sizes=[['qr', 5]], qubit_labels=[['qr', 0], ['qr', 1], ['qr', 2], ['qr', 3], ['qr', 4]]), status=DONE, seed_simulator=4012441279, metadata={'noise': 'ideal', 'batched_shots_optimization': False, 'measure_sampling': False, 'parallel_shots': 8, 'remapped_qubits': True, 'active_input_qubits': [1, 2, 4], 'num_clbits': 5, 'parallel_state_update': 1, 'num_qubits': 3, 'device': 'CPU', 'input_qubit_map': [[4, 2], [2, 1], [1, 0]], 'method': 'statevector', 'fusion': {'applied': False, 'max_fused_qubits': 5, 'threshold': 14, 'enabled': True}}, time_taken=0.380089394)], date=2022-11-10T04:01:39.950017, status=COMPLETED, header=QobjHeader(backend_name='qasm_simulator', backend_version='0.11.1'), metadata={'time_taken': 0.381234503, 'time_taken_execute': 0.380156176, 'mpi_rank': 0, 'num_mpi_processes': 1, 'max_gpu_memory_mb': 0, 'max_memory_mb': 31960, 'parallel_experiments': 1, 'time_taken_load_qobj': 0.001068042, 'num_processes_per_experiments': 1, 'omp_enabled': True}, time_taken=0.3817145824432373)\n",
      "theta_1:1.32\n",
      "theta_2:1.34\n",
      "Result(backend_name='qasm_simulator', backend_version='0.11.1', qobj_id='b8034d8e-692f-408a-99cb-6238fb691844', job_id='4ba0f312-5698-43ba-b89c-5e9ada723843', success=True, results=[ExperimentResult(shots=1024, success=True, meas_level=2, data=ExperimentResultData(counts={'0x0': 1024}), header=QobjExperimentHeader(clbit_labels=[['cr', 0], ['cr', 1], ['cr', 2], ['cr', 3], ['cr', 4]], creg_sizes=[['cr', 5]], global_phase=2.9976021664879227e-14, memory_slots=5, metadata={}, n_qubits=5, name='k_means', qreg_sizes=[['qr', 5]], qubit_labels=[['qr', 0], ['qr', 1], ['qr', 2], ['qr', 3], ['qr', 4]]), status=DONE, seed_simulator=808432870, metadata={'noise': 'ideal', 'batched_shots_optimization': False, 'measure_sampling': False, 'parallel_shots': 8, 'remapped_qubits': True, 'active_input_qubits': [1, 2, 4], 'num_clbits': 5, 'parallel_state_update': 1, 'num_qubits': 3, 'device': 'CPU', 'input_qubit_map': [[4, 2], [2, 1], [1, 0]], 'method': 'statevector', 'fusion': {'applied': False, 'max_fused_qubits': 5, 'threshold': 14, 'enabled': True}}, time_taken=0.377161641)], date=2022-11-10T04:01:40.659930, status=COMPLETED, header=QobjHeader(backend_name='qasm_simulator', backend_version='0.11.1'), metadata={'time_taken': 0.378289566, 'time_taken_execute': 0.377226597, 'mpi_rank': 0, 'num_mpi_processes': 1, 'max_gpu_memory_mb': 0, 'max_memory_mb': 31960, 'parallel_experiments': 1, 'time_taken_load_qobj': 0.001051965, 'num_processes_per_experiments': 1, 'omp_enabled': True}, time_taken=0.3786439895629883)\n",
      "theta_1:1.32\n",
      "theta_2:1.35\n",
      "Result(backend_name='qasm_simulator', backend_version='0.11.1', qobj_id='089a04b5-4d51-4723-b829-18ae72433c62', job_id='1474d39b-4c9d-4761-b242-82d6837fe27b', success=True, results=[ExperimentResult(shots=1024, success=True, meas_level=2, data=ExperimentResultData(counts={'0x0': 1024}), header=QobjExperimentHeader(clbit_labels=[['cr', 0], ['cr', 1], ['cr', 2], ['cr', 3], ['cr', 4]], creg_sizes=[['cr', 5]], global_phase=2.9976021664879227e-14, memory_slots=5, metadata={}, n_qubits=5, name='k_means', qreg_sizes=[['qr', 5]], qubit_labels=[['qr', 0], ['qr', 1], ['qr', 2], ['qr', 3], ['qr', 4]]), status=DONE, seed_simulator=3219531994, metadata={'noise': 'ideal', 'batched_shots_optimization': False, 'measure_sampling': False, 'parallel_shots': 8, 'remapped_qubits': True, 'active_input_qubits': [1, 2, 4], 'num_clbits': 5, 'parallel_state_update': 1, 'num_qubits': 3, 'device': 'CPU', 'input_qubit_map': [[4, 2], [2, 1], [1, 0]], 'method': 'statevector', 'fusion': {'applied': False, 'max_fused_qubits': 5, 'threshold': 14, 'enabled': True}}, time_taken=0.363613274)], date=2022-11-10T04:01:41.504915, status=COMPLETED, header=QobjHeader(backend_name='qasm_simulator', backend_version='0.11.1'), metadata={'time_taken': 0.365595039, 'time_taken_execute': 0.363706063, 'mpi_rank': 0, 'num_mpi_processes': 1, 'max_gpu_memory_mb': 0, 'max_memory_mb': 31960, 'parallel_experiments': 1, 'time_taken_load_qobj': 0.001876136, 'num_processes_per_experiments': 1, 'omp_enabled': True}, time_taken=0.3663465976715088)\n",
      "theta_1:1.33\n",
      "theta_2:1.34\n",
      "Result(backend_name='qasm_simulator', backend_version='0.11.1', qobj_id='45974763-028b-4af4-a4e1-e2f677cebcca', job_id='994c5281-6b53-4eec-88e5-c8b19bab95a7', success=True, results=[ExperimentResult(shots=1024, success=True, meas_level=2, data=ExperimentResultData(counts={'0x0': 1024}), header=QobjExperimentHeader(clbit_labels=[['cr', 0], ['cr', 1], ['cr', 2], ['cr', 3], ['cr', 4]], creg_sizes=[['cr', 5]], global_phase=2.9976021664879227e-14, memory_slots=5, metadata={}, n_qubits=5, name='k_means', qreg_sizes=[['qr', 5]], qubit_labels=[['qr', 0], ['qr', 1], ['qr', 2], ['qr', 3], ['qr', 4]]), status=DONE, seed_simulator=637578023, metadata={'noise': 'ideal', 'batched_shots_optimization': False, 'measure_sampling': False, 'parallel_shots': 8, 'remapped_qubits': True, 'active_input_qubits': [1, 2, 4], 'num_clbits': 5, 'parallel_state_update': 1, 'num_qubits': 3, 'device': 'CPU', 'input_qubit_map': [[4, 2], [2, 1], [1, 0]], 'method': 'statevector', 'fusion': {'applied': False, 'max_fused_qubits': 5, 'threshold': 14, 'enabled': True}}, time_taken=0.440312023)], date=2022-11-10T04:01:42.288161, status=COMPLETED, header=QobjHeader(backend_name='qasm_simulator', backend_version='0.11.1'), metadata={'time_taken': 0.441564346, 'time_taken_execute': 0.44038989, 'mpi_rank': 0, 'num_mpi_processes': 1, 'max_gpu_memory_mb': 0, 'max_memory_mb': 31960, 'parallel_experiments': 1, 'time_taken_load_qobj': 0.00116267, 'num_processes_per_experiments': 1, 'omp_enabled': True}, time_taken=0.44236254692077637)\n",
      "theta_1:1.33\n",
      "theta_2:1.35\n",
      "Result(backend_name='qasm_simulator', backend_version='0.11.1', qobj_id='7275ec8f-8f0b-44a9-b2da-e28c3e2d1bd8', job_id='e8433cbb-e300-4df4-a1c4-77b28798529e', success=True, results=[ExperimentResult(shots=1024, success=True, meas_level=2, data=ExperimentResultData(counts={'0x0': 1024}), header=QobjExperimentHeader(clbit_labels=[['cr', 0], ['cr', 1], ['cr', 2], ['cr', 3], ['cr', 4]], creg_sizes=[['cr', 5]], global_phase=2.9976021664879227e-14, memory_slots=5, metadata={}, n_qubits=5, name='k_means', qreg_sizes=[['qr', 5]], qubit_labels=[['qr', 0], ['qr', 1], ['qr', 2], ['qr', 3], ['qr', 4]]), status=DONE, seed_simulator=531452842, metadata={'noise': 'ideal', 'batched_shots_optimization': False, 'measure_sampling': False, 'parallel_shots': 8, 'remapped_qubits': True, 'active_input_qubits': [1, 2, 4], 'num_clbits': 5, 'parallel_state_update': 1, 'num_qubits': 3, 'device': 'CPU', 'input_qubit_map': [[4, 2], [2, 1], [1, 0]], 'method': 'statevector', 'fusion': {'applied': False, 'max_fused_qubits': 5, 'threshold': 14, 'enabled': True}}, time_taken=0.434084912)], date=2022-11-10T04:01:43.083073, status=COMPLETED, header=QobjHeader(backend_name='qasm_simulator', backend_version='0.11.1'), metadata={'time_taken': 0.435295456, 'time_taken_execute': 0.434152802, 'mpi_rank': 0, 'num_mpi_processes': 1, 'max_gpu_memory_mb': 0, 'max_memory_mb': 31960, 'parallel_experiments': 1, 'time_taken_load_qobj': 0.001132356, 'num_processes_per_experiments': 1, 'omp_enabled': True}, time_taken=0.43602609634399414)\n",
      "theta_1:1.34\n",
      "theta_2:1.35\n"
     ]
    }
   ],
   "source": [
    "# create Quantum Register called \"qr\" with 5 qubits\n",
    "qr = QuantumRegister(5, name=\"qr\")\n",
    "# create Classical Register called \"cr\" with 5 bits\n",
    "cr = ClassicalRegister(5, name=\"cr\")\n",
    "    \n",
    "# Creating Quantum Circuit called \"qc\" involving your Quantum Register \"qr\"\n",
    "# and your Classical Register \"cr\"\n",
    "qc = QuantumCircuit(qr, cr, name=\"k_means\")\n",
    "    \n",
    "#Define a loop to compute the distance between each pair of points\n",
    "for i in range(9):\n",
    "    for j in range(1,10-i):\n",
    "        # Set the parament theta about different point\n",
    "        theta_1 = theta_list[i]\n",
    "        theta_2 = theta_list[i+j]\n",
    "        #Achieve the quantum circuit via qiskit\n",
    "        qc.h(qr[2])\n",
    "        qc.h(qr[1])\n",
    "        qc.h(qr[4])\n",
    "        qc.u3(theta_1, pi, pi, qr[1])\n",
    "        qc.u3(theta_2, pi, pi, qr[4])\n",
    "        qc.cswap(qr[2], qr[1], qr[4])\n",
    "        qc.h(qr[2])\n",
    "                \n",
    "        qc.measure(qr[2], cr[2])\n",
    "        qc.reset(qr)\n",
    "            \n",
    "        job = execute(qc,   backend=backend, shots=1024)\n",
    "        result = job.result()   \n",
    "        print(result)\n",
    "        print('theta_1:' + str(theta_1))\n",
    "        print('theta_2:' + str(theta_2))\n",
    "#         print( result.get_data(qc))\n",
    "        plot_histogram(result.get_counts())"
   ]
  },
  {
   "cell_type": "code",
   "execution_count": null,
   "id": "b0a6f287-3391-4ac2-968d-45c09a4a860c",
   "metadata": {},
   "outputs": [],
   "source": []
  }
 ],
 "metadata": {
  "kernelspec": {
   "display_name": "Python 3 (ipykernel)",
   "language": "python",
   "name": "python3"
  },
  "language_info": {
   "codemirror_mode": {
    "name": "ipython",
    "version": 3
   },
   "file_extension": ".py",
   "mimetype": "text/x-python",
   "name": "python",
   "nbconvert_exporter": "python",
   "pygments_lexer": "ipython3",
   "version": "3.8.13"
  },
  "widgets": {
   "application/vnd.jupyter.widget-state+json": {
    "state": {
     "2de354b812e444c48687f0b1515c569f": {
      "model_module": "@jupyter-widgets/base",
      "model_module_version": "1.2.0",
      "model_name": "LayoutModel",
      "state": {
       "margin": "0px 0px 10px 0px"
      }
     },
     "35bd73da26ee4e5c90c11a4120ccd482": {
      "model_module": "@jupyter-widgets/controls",
      "model_module_version": "1.5.0",
      "model_name": "DescriptionStyleModel",
      "state": {
       "description_width": ""
      }
     },
     "36843a2849684a428ff7f310a51984d5": {
      "model_module": "@jupyter-widgets/controls",
      "model_module_version": "1.5.0",
      "model_name": "HTMLModel",
      "state": {
       "layout": "IPY_MODEL_804629bba62e4e27b632b6c0a65c4efb",
       "style": "IPY_MODEL_35bd73da26ee4e5c90c11a4120ccd482",
       "value": "<h5>Status</h5>"
      }
     },
     "39f81641c5064cae9ac0a9679cdff457": {
      "model_module": "@jupyter-widgets/controls",
      "model_module_version": "1.5.0",
      "model_name": "DescriptionStyleModel",
      "state": {
       "description_width": ""
      }
     },
     "3ea690f37d3c4a0986d4699f7fc08999": {
      "model_module": "@jupyter-widgets/base",
      "model_module_version": "1.2.0",
      "model_name": "LayoutModel",
      "state": {
       "grid_template_areas": "\n                                       \". . . . right \"\n                                        ",
       "grid_template_columns": "20% 20% 20% 20% 20%",
       "width": "100%"
      }
     },
     "405dc2a873cc49b1bbce8b6566100033": {
      "model_module": "@jupyter-widgets/controls",
      "model_module_version": "1.5.0",
      "model_name": "GridBoxModel",
      "state": {
       "children": [
        "IPY_MODEL_4b75f737ed1d4b7c9020e55429c6dcf3"
       ],
       "layout": "IPY_MODEL_3ea690f37d3c4a0986d4699f7fc08999"
      }
     },
     "4b75f737ed1d4b7c9020e55429c6dcf3": {
      "model_module": "@jupyter-widgets/controls",
      "model_module_version": "1.5.0",
      "model_name": "ButtonModel",
      "state": {
       "button_style": "primary",
       "description": "Clear",
       "layout": "IPY_MODEL_dd1a083c58eb4b05a3c1b0364b20da10",
       "style": "IPY_MODEL_6b9f49b5581c4c84a7b27142c26f3807"
      }
     },
     "5c06da7265d740a7ab4cdff7fa43a9ca": {
      "model_module": "@jupyter-widgets/controls",
      "model_module_version": "1.5.0",
      "model_name": "HTMLModel",
      "state": {
       "layout": "IPY_MODEL_2de354b812e444c48687f0b1515c569f",
       "style": "IPY_MODEL_fd9baca44b954fa8aef9d47268db82f2",
       "value": "<p style='font-family: IBM Plex Sans, Arial, Helvetica, sans-serif; font-size: 20px; font-weight: medium;'>Circuit Properties</p>"
      }
     },
     "63ee2b856a234ab0a4052f7554067036": {
      "model_module": "@jupyter-widgets/base",
      "model_module_version": "1.2.0",
      "model_name": "LayoutModel",
      "state": {
       "margin": "0px 0px 0px 37px",
       "width": "600px"
      }
     },
     "6aca3a96b31745d798e213f8abcdc8c6": {
      "model_module": "@jupyter-widgets/base",
      "model_module_version": "1.2.0",
      "model_name": "LayoutModel",
      "state": {
       "width": "190px"
      }
     },
     "6b9f49b5581c4c84a7b27142c26f3807": {
      "model_module": "@jupyter-widgets/controls",
      "model_module_version": "1.5.0",
      "model_name": "ButtonStyleModel",
      "state": {}
     },
     "804629bba62e4e27b632b6c0a65c4efb": {
      "model_module": "@jupyter-widgets/base",
      "model_module_version": "1.2.0",
      "model_name": "LayoutModel",
      "state": {
       "width": "95px"
      }
     },
     "9bb2c6e78ad74c1eb8c5046dfca3d20a": {
      "model_module": "@jupyter-widgets/controls",
      "model_module_version": "1.5.0",
      "model_name": "HBoxModel",
      "state": {
       "children": [
        "IPY_MODEL_fc40e89421954198a0cb6945d5a0744d",
        "IPY_MODEL_eb2e8d223e0245629768323a3255a105",
        "IPY_MODEL_36843a2849684a428ff7f310a51984d5",
        "IPY_MODEL_9fd621ee850f4425b5974dc4bb48bea6",
        "IPY_MODEL_b2980313bff5433fa2c375e6d79dda48"
       ],
       "layout": "IPY_MODEL_63ee2b856a234ab0a4052f7554067036"
      }
     },
     "9bb9891eeace4d9db2f8f923be2fc9c8": {
      "model_module": "@jupyter-widgets/base",
      "model_module_version": "1.2.0",
      "model_name": "LayoutModel",
      "state": {
       "width": "145px"
      }
     },
     "9fd621ee850f4425b5974dc4bb48bea6": {
      "model_module": "@jupyter-widgets/controls",
      "model_module_version": "1.5.0",
      "model_name": "HTMLModel",
      "state": {
       "layout": "IPY_MODEL_efa0caf443314292835cf6870a2cd22d",
       "style": "IPY_MODEL_f1957e658ea949b5aff183a7d8833f94",
       "value": "<h5>Queue</h5>"
      }
     },
     "b2980313bff5433fa2c375e6d79dda48": {
      "model_module": "@jupyter-widgets/controls",
      "model_module_version": "1.5.0",
      "model_name": "HTMLModel",
      "state": {
       "layout": "IPY_MODEL_b51cc6f42e484fa59195bd7133e033f9",
       "style": "IPY_MODEL_39f81641c5064cae9ac0a9679cdff457",
       "value": "<h5>Message</h5>"
      }
     },
     "b51cc6f42e484fa59195bd7133e033f9": {
      "model_module": "@jupyter-widgets/base",
      "model_module_version": "1.2.0",
      "model_name": "LayoutModel",
      "state": {}
     },
     "dd1a083c58eb4b05a3c1b0364b20da10": {
      "model_module": "@jupyter-widgets/base",
      "model_module_version": "1.2.0",
      "model_name": "LayoutModel",
      "state": {
       "grid_area": "right",
       "padding": "0px 0px 0px 0px",
       "width": "70px"
      }
     },
     "dd41534727554f74973ac6da672fed7d": {
      "model_module": "@jupyter-widgets/controls",
      "model_module_version": "1.5.0",
      "model_name": "DescriptionStyleModel",
      "state": {
       "description_width": ""
      }
     },
     "de050f4c026542d88e37873a50053e94": {
      "model_module": "@jupyter-widgets/controls",
      "model_module_version": "1.5.0",
      "model_name": "DescriptionStyleModel",
      "state": {
       "description_width": ""
      }
     },
     "eb2e8d223e0245629768323a3255a105": {
      "model_module": "@jupyter-widgets/controls",
      "model_module_version": "1.5.0",
      "model_name": "HTMLModel",
      "state": {
       "layout": "IPY_MODEL_9bb9891eeace4d9db2f8f923be2fc9c8",
       "style": "IPY_MODEL_dd41534727554f74973ac6da672fed7d",
       "value": "<h5>Backend</h5>"
      }
     },
     "efa0caf443314292835cf6870a2cd22d": {
      "model_module": "@jupyter-widgets/base",
      "model_module_version": "1.2.0",
      "model_name": "LayoutModel",
      "state": {
       "width": "70px"
      }
     },
     "f1957e658ea949b5aff183a7d8833f94": {
      "model_module": "@jupyter-widgets/controls",
      "model_module_version": "1.5.0",
      "model_name": "DescriptionStyleModel",
      "state": {
       "description_width": ""
      }
     },
     "fc40e89421954198a0cb6945d5a0744d": {
      "model_module": "@jupyter-widgets/controls",
      "model_module_version": "1.5.0",
      "model_name": "HTMLModel",
      "state": {
       "layout": "IPY_MODEL_6aca3a96b31745d798e213f8abcdc8c6",
       "style": "IPY_MODEL_de050f4c026542d88e37873a50053e94",
       "value": "<h5>Job ID</h5>"
      }
     },
     "fd9baca44b954fa8aef9d47268db82f2": {
      "model_module": "@jupyter-widgets/controls",
      "model_module_version": "1.5.0",
      "model_name": "DescriptionStyleModel",
      "state": {
       "description_width": ""
      }
     }
    },
    "version_major": 2,
    "version_minor": 0
   }
  }
 },
 "nbformat": 4,
 "nbformat_minor": 5
}
